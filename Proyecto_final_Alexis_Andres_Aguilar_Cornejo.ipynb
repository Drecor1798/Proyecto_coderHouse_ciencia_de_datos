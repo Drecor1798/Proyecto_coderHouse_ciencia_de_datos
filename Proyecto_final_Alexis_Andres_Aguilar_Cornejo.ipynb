{
  "nbformat": 4,
  "nbformat_minor": 0,
  "metadata": {
    "colab": {
      "private_outputs": true,
      "provenance": [],
      "toc_visible": true,
      "authorship_tag": "ABX9TyMcPAnSK1omdxN+g7Oxd0/U",
      "include_colab_link": true
    },
    "kernelspec": {
      "name": "python3",
      "display_name": "Python 3"
    },
    "language_info": {
      "name": "python"
    }
  },
  "cells": [
    {
      "cell_type": "markdown",
      "metadata": {
        "id": "view-in-github",
        "colab_type": "text"
      },
      "source": [
        "<a href=\"https://colab.research.google.com/github/Drecor1798/Proyecto_coderHouse_ciencia_de_datos/blob/main/Untitled49.ipynb\" target=\"_parent\"><img src=\"https://colab.research.google.com/assets/colab-badge.svg\" alt=\"Open In Colab\"/></a>"
      ]
    },
    {
      "cell_type": "markdown",
      "metadata": {
        "id": "-b8WXtlBNQsD"
      },
      "source": [
        "#Plataforma Inteligente para la Selección Óptima de Zonas de Cultivo de las 100 prinsipales ciudades sugun Forbes\n"
      ]
    },
    {
      "cell_type": "markdown",
      "metadata": {
        "id": "nsBc__y9Nf9T"
      },
      "source": [
        "#Agenda\n",
        "\n",
        "1. Descripccion de proyecto\n",
        "2. Preparación del entorno\n",
        "3. Preparación de datos\n",
        "4. Análisis exploratorio\n",
        "   *   Análisis de las ciudades más calurosas.\n",
        "   *   Análisis de las ciudades más frías.\n",
        "   *   Analisis de las ciudades mas calurosas de las 100 ciudades 100 ciudades más importantes de Forbes\n",
        "   *   Analisis de las ciudades mas frias de las 100 ciudades 100 ciudades más importantes de Forbes\n",
        "5. Ciudades con mayor promedio de temperatura\n",
        "6. Ciudades con menor promedio\n",
        "7. Agricultura\n",
        "9. Insights\n",
        "10. Concluciones\n",
        "\n",
        "\n"
      ]
    },
    {
      "cell_type": "markdown",
      "source": [
        "#Descripccion de proyeto"
      ],
      "metadata": {
        "id": "av5mcktnSJDI"
      }
    },
    {
      "cell_type": "markdown",
      "source": [
        "##Problema a Resolver\n",
        "\n",
        "La agricultura enfrenta riesgos crecientes debido a:\n",
        "\n",
        "* Cambios climáticos impredecibles\n",
        "\n",
        "* Decisiones inadecuadas en la elección de zonas de cultivo\n",
        "\n",
        "* Pérdidas económicas por bajos rendimientos o fallas en las cosechas\n",
        "\n",
        "Muchos agricultores y tomadores de decisiones siembran sin conocer con precisión si las condiciones agroclimáticas locales son óptimas para los cultivos seleccionados."
      ],
      "metadata": {
        "id": "Q1uEIRUKtIMe"
      }
    },
    {
      "cell_type": "markdown",
      "source": [
        "##Objetivo de proyecto\n",
        "Desarrollar una herramienta basada en datos climáticos y geoespaciales que identifique las ciudades o regiones con las condiciones óptimas de temperatura, precipitación y radiación solar para el cultivo de especies agrícolas específicas.\n"
      ],
      "metadata": {
        "id": "JvEAyuFhSAYo"
      }
    },
    {
      "cell_type": "markdown",
      "metadata": {
        "id": "TzDT9KI0XlsX"
      },
      "source": [
        "##Preguntas\n",
        "* ¿Cómo varían las diferentes variables de temperatura (máxima, mínima, media, aparente) a lo largo del año en las ciudades más calurosas?\n",
        "* ¿Cual es el periodo de tiempo (meses) que tienen mayor y menor temperatura de las ciudades con mayor temperatura?\n",
        "* ¿Qué meses tienen más días con temperaturas agradables (entre 20 y 30 grados) en las ciudades más calurosas?\n",
        "* ¿Cómo se distribuye la diferencia entre la temperatura media y la sensación térmica (diferencia aparente) en estas ciudades?\n",
        "* ¿Cómo se distribuye la diferencia entre la temperatura máxima y mínima (amplitud térmica) en estas ciudades?\n",
        "* ¿Cuáles son las ciudades con las mejores condiciones agroclimáticas en general, considerando temperatura, precipitación, radiación solar y balance hídrico?\n",
        "* ¿Cómo varían la temperatura media y la precipitación a lo largo del tiempo en las ciudades con mejor clima para la agricultura?\n",
        "* ¿Que cosecha se puede cultivar en cada ciudad\n",
        "\n",
        "\n"
      ]
    },
    {
      "cell_type": "markdown",
      "metadata": {
        "id": "hefu5XYAJ8X_"
      },
      "source": [
        "#Preparacion del entorno"
      ]
    },
    {
      "cell_type": "code",
      "execution_count": null,
      "metadata": {
        "id": "7E8ylIgJ5rQI"
      },
      "outputs": [],
      "source": [
        "!pip install -q kaggle"
      ]
    },
    {
      "cell_type": "code",
      "execution_count": null,
      "metadata": {
        "id": "qTkGNuqe5xRs"
      },
      "outputs": [],
      "source": [
        "! gdown --id 1XL-U81WlWTjmc5ByZVd3l63wARxECvaL"
      ]
    },
    {
      "cell_type": "code",
      "execution_count": null,
      "metadata": {
        "id": "LjMQ3Ir85zyI"
      },
      "outputs": [],
      "source": [
        "!mkdir ~/.kaggle\n",
        "!cp kaggle.json ~/.kaggle/\n",
        "!chmod 600 ~/.kaggle/kaggle.json\n",
        "!kaggle datasets list"
      ]
    },
    {
      "cell_type": "code",
      "execution_count": null,
      "metadata": {
        "id": "nPmJaC6n52qq"
      },
      "outputs": [],
      "source": [
        "!kaggle datasets download -d bwandowando/forbes-top-100-cities-weather-data2020-ytd"
      ]
    },
    {
      "cell_type": "code",
      "source": [
        "!kaggle datasets download -d samuelotiattakorah/agriculture-crop-yield"
      ],
      "metadata": {
        "id": "TrryjMb4Jo1n"
      },
      "execution_count": null,
      "outputs": []
    },
    {
      "cell_type": "code",
      "execution_count": null,
      "metadata": {
        "id": "9h3kJQtc6UK6"
      },
      "outputs": [],
      "source": [
        "import pandas as pd\n",
        "import plotly.express as px\n",
        "import plotly.graph_objects as go\n",
        "from plotly.subplots import make_subplots\n",
        "import matplotlib.pyplot as plt\n",
        "import seaborn as sns\n",
        "import numpy as np\n",
        "from datetime import datetime\n",
        "from sklearn.model_selection import train_test_split\n",
        "from sklearn.linear_model import LogisticRegression\n",
        "from sklearn.metrics import classification_report, accuracy_score\n",
        "from prophet import Prophet\n",
        "from sklearn.ensemble import GradientBoostingClassifier\n",
        "from sklearn.datasets import load_breast_cancer\n",
        "from sklearn.model_selection import train_test_split\n",
        "from sklearn.metrics import accuracy_score, confusion_matrix, classification_report\n",
        "# Data handling and preprocessing\n",
        "import pandas as pd\n",
        "import numpy as np\n",
        "from sklearn.preprocessing import LabelEncoder\n",
        "\n",
        "# Model selection and evaluation\n",
        "from sklearn.experimental import enable_halving_search_cv\n",
        "from sklearn.model_selection import train_test_split, HalvingGridSearchCV, RandomizedSearchCV\n",
        "from sklearn.metrics import accuracy_score, classification_report, confusion_matrix, mean_squared_error, mean_absolute_error, r2_score\n",
        "\n",
        "# Classification models\n",
        "from sklearn.ensemble import RandomForestClassifier, GradientBoostingClassifier\n",
        "from sklearn.linear_model import LogisticRegression\n",
        "from sklearn.svm import SVC\n",
        "from sklearn.tree import DecisionTreeClassifier\n",
        "from sklearn.neighbors import KNeighborsClassifier\n",
        "\n",
        "# Regression models\n",
        "from sklearn.ensemble import RandomForestRegressor, GradientBoostingRegressor\n",
        "from sklearn.linear_model import LinearRegression, Ridge, Lasso, ElasticNet\n",
        "from sklearn.svm import SVR\n",
        "from sklearn.tree import DecisionTreeRegressor\n",
        "from sklearn.neighbors import KNeighborsRegressor\n",
        "\n",
        "# Visualization\n",
        "import plotly.express as px\n",
        "import matplotlib.pyplot as plt\n",
        "import seaborn as sns\n",
        "\n",
        "# Miscellaneous\n",
        "import pickle\n",
        "import os\n",
        "import joblib"
      ]
    },
    {
      "cell_type": "code",
      "execution_count": null,
      "metadata": {
        "id": "p3LCX2C26WaQ"
      },
      "outputs": [],
      "source": [
        "!unzip /content/forbes-top-100-cities-weather-data2020-ytd.zip\n",
        "!ls /content/forbes-top-100-cities-weather-data2020-ytd.zip"
      ]
    },
    {
      "cell_type": "code",
      "execution_count": null,
      "metadata": {
        "id": "hXGSXm2E9_pc"
      },
      "outputs": [],
      "source": [
        "df1 = pd.read_csv('/content/daily_data.csv')\n",
        "df1.info()"
      ]
    },
    {
      "cell_type": "code",
      "execution_count": null,
      "metadata": {
        "id": "j3aGEtBlgk9x"
      },
      "outputs": [],
      "source": [
        "pd.set_option('display.max_columns', None)\n",
        "serie = (df1.isnull().sum()/df1.shape[0])*100\n",
        "serie.sort_values(ascending=False)\n",
        "serie = serie[serie>0]\n",
        "serie"
      ]
    },
    {
      "cell_type": "code",
      "execution_count": null,
      "metadata": {
        "id": "zHG8ARxy-DQG"
      },
      "outputs": [],
      "source": [
        "df2 = pd.read_csv('/content/hourly_data.csv')\n",
        "df2.info()"
      ]
    },
    {
      "cell_type": "code",
      "source": [
        "pd.set_option('display.max_columns', None)\n",
        "serie = (df2.isnull().sum()/df2.shape[0])*100\n",
        "serie.sort_values(ascending=False)\n",
        "serie = serie[serie>0]\n",
        "serie"
      ],
      "metadata": {
        "id": "PZ4ULysg5iKr"
      },
      "execution_count": null,
      "outputs": []
    },
    {
      "cell_type": "code",
      "execution_count": null,
      "metadata": {
        "id": "8l2bUw0f-Fvj"
      },
      "outputs": [],
      "source": [
        "df3 = pd.read_csv('/content/cities.csv')\n",
        "df3.info()"
      ]
    },
    {
      "cell_type": "code",
      "source": [
        "pd.set_option('display.max_columns', None)\n",
        "serie = (df3.isnull().sum()/df3.shape[0])*100\n",
        "serie.sort_values(ascending=False)\n",
        "serie = serie[serie>0]\n",
        "serie"
      ],
      "metadata": {
        "id": "cCocAlfw5qGu"
      },
      "execution_count": null,
      "outputs": []
    },
    {
      "cell_type": "code",
      "source": [
        "df4 = pd.read_csv('/content/agriculture-crop-yield.zip')\n",
        "df4.info()"
      ],
      "metadata": {
        "id": "AXQV9MNkaezq"
      },
      "execution_count": null,
      "outputs": []
    },
    {
      "cell_type": "code",
      "source": [
        "pd.set_option('display.max_columns', None)\n",
        "serie = (df4.isnull().sum()/df4.shape[0])*100\n",
        "serie.sort_values(ascending=False)\n",
        "serie = serie[serie>0]\n",
        "serie"
      ],
      "metadata": {
        "id": "ylRBxYp6a7Cp"
      },
      "execution_count": null,
      "outputs": []
    },
    {
      "cell_type": "code",
      "execution_count": null,
      "metadata": {
        "id": "gCSEc3AZEGbZ"
      },
      "outputs": [],
      "source": [
        "paises2 = df1['city_name'].unique()\n",
        "\n",
        "# Iterar sobre cada país\n",
        "for city_name in paises2:\n",
        "    print(f\"\\n===== {city_name} =====\")\n",
        "    df_grupo = df1[df1['city_name'] == city_name]\n",
        "    df_pivot = df_grupo.set_index('datetime')[[ 'temperature_2m_max','temperature_2m_min','temperature_2m_mean','apparent_temperature_mean']]\n",
        "    display(df_pivot)"
      ]
    },
    {
      "cell_type": "code",
      "execution_count": null,
      "metadata": {
        "id": "68610ed6"
      },
      "outputs": [],
      "source": [
        "# Define a function to categorize the climate based on temperature\n",
        "def classify_climate(row):\n",
        "    # You can adjust these thresholds based on your definition of each category\n",
        "    if row['temperature_2m_mean'] < 10:\n",
        "        return 'Frío'\n",
        "    elif 10 <= row['temperature_2m_mean'] < 20:\n",
        "        return 'Agradable'\n",
        "    else:\n",
        "        return 'Caluroso'\n",
        "\n",
        "# Apply the function to create the 'clima_categoria' column\n",
        "df1['clima_categoria'] = df1.apply(classify_climate, axis=1)\n",
        "\n",
        "# Display the value counts for the new column to check the distribution\n",
        "display(df1['clima_categoria'].value_counts())"
      ]
    },
    {
      "cell_type": "code",
      "execution_count": null,
      "metadata": {
        "id": "3ATzKfnfIiar"
      },
      "outputs": [],
      "source": [
        "import pandas as pd\n",
        "\n",
        "# --- Asegurar que datetime es tipo fecha\n",
        "df1['datetime'] = pd.to_datetime(df1['datetime'])\n",
        "\n",
        "# --- Crear variables adicionales\n",
        "df1['año'] = df1['datetime'].dt.year\n",
        "df1['mes'] = df1['datetime'].dt.month\n",
        "df1['dia'] = df1['datetime'].dt.day\n",
        "df1['dia_semana'] = df1['datetime'].dt.day_name()\n",
        "df1['semana'] = df1['datetime'].dt.isocalendar().week\n",
        "\n",
        "\n",
        "\n",
        "# --- Crear variables de temperatura adicionales\n",
        "df1['amplitud_termica'] = df1['temperature_2m_max'] - df1['temperature_2m_min']\n",
        "df1['diferencia_aparente'] = df1['apparent_temperature_mean'] - df1['temperature_2m_mean']\n",
        "\n",
        "# --- Mostrar datos por ciudad\n",
        "ciudades = df1['city_name'].unique()\n",
        "\n",
        "for city in ciudades:\n",
        "    print(f\"\\n===== {city} =====\")\n",
        "\n",
        "    df_ciudades = df1[df1['city_name'] == city]\n",
        "\n",
        "    # Asegurarse de que esté ordenado por fecha\n",
        "    df_pivot = df_ciudades.set_index('datetime').sort_index()[[\n",
        "        'temperature_2m_max',\n",
        "        'temperature_2m_min',\n",
        "        'temperature_2m_mean',\n",
        "        'apparent_temperature_mean',\n",
        "        'amplitud_termica',\n",
        "        'diferencia_aparente',\n",
        "        'año',\n",
        "        'mes',\n",
        "        'dia',\n",
        "        'dia_semana',\n",
        "        'semana',\n",
        "        'clima_categoria'\n",
        "    ]]\n",
        "\n",
        "    # Mostrar las primeras filas\n",
        "    display(df_pivot.head())\n",
        "\n"
      ]
    },
    {
      "cell_type": "markdown",
      "metadata": {
        "id": "xyu1NfgBKPqz"
      },
      "source": [
        "#Análisis exploratorio"
      ]
    },
    {
      "cell_type": "markdown",
      "metadata": {
        "id": "HLa9he9EKcCr"
      },
      "source": [
        "##Análisis de las ciudades más calurosas."
      ]
    },
    {
      "cell_type": "code",
      "execution_count": null,
      "metadata": {
        "id": "wd_rqVtKDHNI"
      },
      "outputs": [],
      "source": [
        "# Asegurar que datetime es tipo fecha\n",
        "df1['datetime'] = pd.to_datetime(df1['datetime'])\n",
        "\n",
        "# Agrupar por ciudad y calcular el promedio de temperatura máxima\n",
        "promedio_por_ciudad_calor = df1.groupby('city_name')['temperature_2m_max'].mean()\n",
        "\n",
        "# Obtener las 10 ciudades con mayor promedio\n",
        "top_10_promedios_max = promedio_por_ciudad_calor.sort_values(ascending=False).head(10)\n",
        "\n",
        "# Mostrar resultados\n",
        "print(\"Top 10 ciudades con mayor promedio de temperatura máxima:\")\n",
        "print(top_10_promedios_max)\n",
        "\n",
        "\n"
      ]
    },
    {
      "cell_type": "markdown",
      "metadata": {
        "id": "WJzonEIHKhad"
      },
      "source": [
        "##Análisis de las ciudades más frías."
      ]
    },
    {
      "cell_type": "code",
      "execution_count": null,
      "metadata": {
        "id": "sA6HyJ7dKRru"
      },
      "outputs": [],
      "source": [
        "# Asegurar que datetime es tipo fecha\n",
        "df1['datetime'] = pd.to_datetime(df1['datetime'])\n",
        "\n",
        "# Agrupar por ciudad y calcular el promedio de temperatura máxima\n",
        "promedio_por_ciudad_frio = df1.groupby('city_name')['temperature_2m_min'].mean()\n",
        "\n",
        "# Obtener las 10 ciudades con mayor promedio\n",
        "top_10_promedios_min = promedio_por_ciudad_frio.sort_values(ascending=True).head(10)\n",
        "\n",
        "# Mostrar resultados\n",
        "print(\"Top 10 ciudades con mayor promedio de temperatura minimas:\")\n",
        "print(top_10_promedios_min)\n"
      ]
    },
    {
      "cell_type": "markdown",
      "metadata": {
        "id": "eQEisdJMBhSl"
      },
      "source": [
        "##Analisis de las ciudades mas calurosas de las 100 ciudades 100 ciudades más importantes de Forbes\n"
      ]
    },
    {
      "cell_type": "code",
      "execution_count": null,
      "metadata": {
        "id": "hO01NX_Pe6Nm"
      },
      "outputs": [],
      "source": [
        "df1['datetime'] = pd.to_datetime(df1['datetime'])\n",
        "\n",
        "# Promedios por mes\n",
        "# Use a list instead of a tuple to select multiple columns\n",
        "df_mes = df1.groupby(['año', 'mes'])[['temperature_2m_min', 'temperature_2m_max']].mean().reset_index()\n",
        "\n",
        "# Estimar estación por rangos\n",
        "def determinar_estacion(row):\n",
        "    tmin = row['temperature_2m_min']\n",
        "    tmax = row['temperature_2m_max']\n",
        "    if tmax >= 27:\n",
        "        return 'Verano'\n",
        "    elif tmin < 10:\n",
        "        return 'Invierno'\n",
        "    elif 10 <= tmin < 18 and tmax < 27:\n",
        "        return 'Primavera'\n",
        "    else:\n",
        "        return 'Otoño'\n",
        "\n",
        "df_mes['estacion_aproximada'] = df_mes.apply(determinar_estacion, axis=1)"
      ]
    },
    {
      "cell_type": "code",
      "execution_count": null,
      "metadata": {
        "id": "1OHp--Maf5g8"
      },
      "outputs": [],
      "source": [
        "\n",
        "paises_deseados = top_10_promedios_max.index\n",
        "df_filtrado = df1[df1['city_name'].isin(paises_deseados)]\n",
        "\n",
        "# --- Mostrar datos por ciudad (solo dentro de los países filtrados)\n",
        "ciudades = df_filtrado['city_name'].unique()\n",
        "\n",
        "for city in ciudades:\n",
        "    print(f\"\\n===== {city} =====\")\n",
        "\n",
        "    df_ciudad = df_filtrado[df_filtrado['city_name'] == city]\n",
        "\n",
        "    # Asegurarse de que esté ordenado por fecha\n",
        "    df_pivot_calor = df_ciudad.set_index('datetime').sort_index()[[\n",
        "        'temperature_2m_max',\n",
        "        'temperature_2m_min',\n",
        "        'temperature_2m_mean',\n",
        "        'apparent_temperature_max',\n",
        "        'apparent_temperature_min',\n",
        "        'amplitud_termica',\n",
        "        'diferencia_aparente',\n",
        "        'año',\n",
        "        'mes',\n",
        "        'dia',\n",
        "        'dia_semana',\n",
        "        'semana',\n",
        "        'clima_categoria'\n",
        "    ]]\n",
        "\n",
        "    # Mostrar las primeras filas\n",
        "    display(df_pivot_calor.head())"
      ]
    },
    {
      "cell_type": "markdown",
      "metadata": {
        "id": "m5Lhp1fYBoxk"
      },
      "source": [
        "##Analisis de las ciudades mas frias de las 100 ciudades 100 ciudades más importantes de Forbes"
      ]
    },
    {
      "cell_type": "code",
      "execution_count": null,
      "metadata": {
        "id": "x25y7tgcg1fB"
      },
      "outputs": [],
      "source": [
        "\n",
        "paises_deseados_frios = top_10_promedios_min.index\n",
        "df_filtrado_frio = df1[df1['city_name'].isin(paises_deseados_frios)]\n",
        "\n",
        "# --- Mostrar datos por ciudad (solo dentro de los países filtrados)\n",
        "ciudades_frio = df_filtrado_frio['city_name'].unique()\n",
        "\n",
        "for city in ciudades_frio:\n",
        "    print(f\"\\n===== {city} =====\")\n",
        "\n",
        "    df_ciudad_fria = df_filtrado_frio[df_filtrado_frio['city_name'] == city]\n",
        "\n",
        "    # Asegurarse de que esté ordenado por fecha\n",
        "    df_pivot_frio = df_ciudad_fria.set_index('datetime').sort_index()[[\n",
        "        'temperature_2m_max',\n",
        "        'temperature_2m_min',\n",
        "        'temperature_2m_mean',\n",
        "        'apparent_temperature_mean',\n",
        "        'amplitud_termica',\n",
        "        'diferencia_aparente',\n",
        "        'año',\n",
        "        'mes',\n",
        "        'dia',\n",
        "        'dia_semana',\n",
        "        'semana',\n",
        "        'clima_categoria'\n",
        "    ]]\n",
        "\n",
        "    # Mostrar las primeras filas\n",
        "    display(df_pivot_frio.head())"
      ]
    },
    {
      "cell_type": "markdown",
      "metadata": {
        "id": "kGSgC1pmGRuD"
      },
      "source": [
        "#Ciudades con mayor promedio de temperatura"
      ]
    },
    {
      "cell_type": "markdown",
      "metadata": {
        "id": "zvoW77AaGDbP"
      },
      "source": [
        "##¿Cómo varían las diferentes variables de temperatura (máxima, mínima, media, aparente) a lo largo del año en las ciudades más calurosas?\n"
      ]
    },
    {
      "cell_type": "code",
      "execution_count": null,
      "metadata": {
        "id": "ff2uj60LjzAv"
      },
      "outputs": [],
      "source": [
        "import plotly.graph_objects as go\n",
        "from plotly.subplots import make_subplots\n",
        "\n",
        "# Filtrar por año\n",
        "df_filtrado = df_filtrado[df_filtrado['año'].between(2020, 2025)]\n",
        "# Obtener ciudades del dataframe filtrado\n",
        "ciudades = df_filtrado['city_name'].unique()\n",
        "\n",
        "# Iterar sobre cada ciudad\n",
        "for city in ciudades:\n",
        "    print(f\"\\n===== {city} =====\")\n",
        "\n",
        "    # Filtrar datos para la ciudad\n",
        "    df_ciudad = df_filtrado[df_filtrado['city_name'] == city]\n",
        "\n",
        "    # Agrupar por año y calcular promedios\n",
        "    promedio_anual_calor = df_ciudad.groupby('año')['temperature_2m_max'].mean()\n",
        "    promedio_total_calor = promedio_anual_calor.mean()\n",
        "\n",
        "    promedio_anual_frio = df_ciudad.groupby('año')['temperature_2m_min'].mean()\n",
        "    promedio_total_frio = promedio_anual_frio.mean()\n",
        "\n",
        "    promedio_anual_medio = df_ciudad.groupby('año')['temperature_2m_mean'].mean()\n",
        "    promedio_total_medio = promedio_anual_medio.mean()\n",
        "\n",
        "    promedio_anual_aparente = df_ciudad.groupby('año')['apparent_temperature_mean'].mean()\n",
        "    promedio_total_aparente = promedio_anual_aparente.mean()\n",
        "\n",
        "    promedio_anual_amplitud = df_ciudad.groupby('año')['amplitud_termica'].mean()\n",
        "    promedio_total_amplitud = promedio_anual_amplitud.mean()\n",
        "\n",
        "    fig_subplots = make_subplots(\n",
        "        rows=2, cols=3,\n",
        "        subplot_titles=[\n",
        "            \"Promedio de calor por año\",\n",
        "            \"Promedio de frío por año\",\n",
        "            \"Promedio de temperatura media por año\",\n",
        "            \"Temperatura aparente por año\",\n",
        "            \"Amplitud térmica por año\"\n",
        "        ]\n",
        "    )\n",
        "\n",
        "    fig_subplots.add_trace(go.Bar(x=promedio_anual_calor.index, y=promedio_anual_calor, name=\"Temp. Máxima\"), row=1, col=1)\n",
        "    fig_subplots.add_trace(go.Bar(x=promedio_anual_frio.index, y=promedio_anual_frio, name=\"Temp. Mínima\"), row=1, col=2)\n",
        "    fig_subplots.add_trace(go.Bar(x=promedio_anual_medio.index, y=promedio_anual_medio, name=\"Temp. Media\"), row=1, col=3)\n",
        "    fig_subplots.add_trace(go.Bar(x=promedio_anual_aparente.index, y=promedio_anual_aparente, name=\"Temp. Aparente\"), row=2, col=1)\n",
        "    fig_subplots.add_trace(go.Bar(x=promedio_anual_amplitud.index, y=promedio_anual_amplitud, name=\"Amplitud Térmica\"), row=2, col=2)\n",
        "\n",
        "    fig_subplots.update_layout(height=700, width=1900, title_text=f\"Promedios de temperatura en {city} (2020-2025)\")\n",
        "\n",
        "    fig_subplots.show() # Mostrar el gráfico\n",
        "\n",
        "    # Mostrar promedios en consola\n",
        "    print(f\"Promedio de temperatura máxima (2020–2025): {promedio_total_calor:.2f} °C\")\n",
        "    print(f\"Promedio de temperatura mínima (2020–2025): {promedio_total_frio:.2f} °C\")\n",
        "    print(f\"Promedio de temperatura media (2020–2025): {promedio_total_medio:.2f} °C\")\n",
        "    print(f\"Promedio de temperatura aparente (2020–2025): {promedio_total_aparente:.2f} °C\")\n",
        "    print(f\"Promedio de amplitud térmica (2020–2025): {promedio_total_amplitud:.2f} °C\")\n",
        "\n"
      ]
    },
    {
      "cell_type": "markdown",
      "metadata": {
        "id": "ftZJIBNnGhhT"
      },
      "source": [
        "##¿Cual es el periodo de tiempo (meses) que tienen mayor y menor temperatura de las ciudades con mayor temperatura?"
      ]
    },
    {
      "cell_type": "code",
      "execution_count": null,
      "metadata": {
        "id": "R3quj5S5hy-i"
      },
      "outputs": [],
      "source": [
        "for city in ciudades:\n",
        "    print(f\"\\n===== {city} =====\")\n",
        "\n",
        "    # Filtrar datos para la ciudad\n",
        "    df_ciudad = df_filtrado[df_filtrado['city_name'] == city]\n",
        "\n",
        "    for año in df_ciudad['año'].unique():\n",
        "        df_año = df_ciudad[df_ciudad['año'] == año]\n",
        "\n",
        "        # Agrupar por mes y calcular promedios\n",
        "        promedio_min = df_año.groupby('mes')['temperature_2m_min'].mean()\n",
        "        promedio_max = df_año.groupby('mes')['temperature_2m_max'].mean()\n",
        "\n",
        "        # Crear gráfico de barras combinado\n",
        "        x = promedio_min.index\n",
        "        width = 0.35  # ancho de las barras\n",
        "\n",
        "        plt.figure(figsize=(12, 6))\n",
        "        plt.bar(x - 0.175, promedio_min.values, width=width, color='orange', label='Temp. Mínima')\n",
        "        plt.bar(x + 0.175, promedio_max.values, width=width, color='red', alpha=0.7, label='Temp. Máxima')\n",
        "\n",
        "        plt.title(f'Temperaturas Promedio por Mes - {año} - {city}', fontsize=14)\n",
        "        plt.xlabel('Mes', fontsize=12)\n",
        "        plt.ylabel('Temperatura (°C)', fontsize=12)\n",
        "        plt.legend()\n",
        "        plt.xticks(ticks=x, labels=[f'Mes {m}' for m in x], rotation=45)\n",
        "        plt.tight_layout()\n",
        "        plt.show()\n",
        "\n",
        "        # Detectar los 3 meses más cálidos y más fríos\n",
        "        meses_maximos = promedio_max.sort_values(ascending=False).head(3)\n",
        "        meses_minimos = promedio_min.sort_values(ascending=True).head(3)\n",
        "\n",
        "        print(f\"\\nTop 3 meses más calurosos (Temp. máxima promedio más alta):\")\n",
        "        for mes, temp in meses_maximos.items():\n",
        "            print(f\"  Mes {mes}: {temp:.2f} °C\")\n",
        "\n",
        "        print(f\"\\nTop 3 meses más fríos (Temp. mínima promedio más baja):\")\n",
        "        for mes, temp in meses_minimos.items():\n",
        "            print(f\"  Mes {mes}: {temp:.2f} °C\")\n"
      ]
    },
    {
      "cell_type": "markdown",
      "metadata": {
        "id": "2etc1QGIGr6u"
      },
      "source": [
        "##¿Qué meses tienen más días con temperaturas agradables (entre 20 y 30 grados) en las ciudades más calurosas?"
      ]
    },
    {
      "cell_type": "markdown",
      "metadata": {
        "id": "q1AG_t7qkI1O"
      },
      "source": [
        "Un equipo internacional de investigadores de diversas universidades entre las que se encuentran el Instituto Tecnológico de Massachusetts (MIT por sus siglas en inglés); la Universidad de San Diego, en California; o la Universidad de de British Columbia, en Canadá, se ha atrevido a determinar cuál es la temperatura ideal, aquella con la que nos sentimos más felices. El equipo pudo comprobar que hay más expresiones positivas durante el día si los termómetros no bajan de los 20 grados centígrados pero tampoco suben de los 30. Cuanto más se alejan de estas franjas, las palabras son más negativas, sostienen. Una medida perfecta, señalan, serían los 25 grados."
      ]
    },
    {
      "cell_type": "markdown",
      "metadata": {
        "id": "kCHDAxfuG4Zp"
      },
      "source": [
        "###Periodos calidos"
      ]
    },
    {
      "cell_type": "code",
      "execution_count": null,
      "metadata": {
        "id": "gbXaoC9NG_Mw"
      },
      "outputs": [],
      "source": [
        "nombres_meses = {\n",
        "    1: 'Enero', 2: 'Febrero', 3: 'Marzo',\n",
        "    4: 'Abril', 5: 'Mayo', 6: 'Junio',\n",
        "    7: 'Julio', 8: 'Agosto', 9: 'Septiembre',\n",
        "    10: 'Octubre', 11: 'Noviembre', 12: 'Diciembre'\n",
        "}\n",
        "\n",
        "for city in ciudades:\n",
        "    print(f\"\\n===== {city} =====\")\n",
        "    df_ciudad = df_filtrado[df_filtrado['city_name'] == city]\n",
        "\n",
        "    for año in df_ciudad['año'].unique():\n",
        "        df_año = df_ciudad[df_ciudad['año'] == año]\n",
        "\n",
        "        # Calcular los 3 meses más calurosos\n",
        "        promedio_max_por_mes = df_año.groupby('mes')['temperature_2m_max'].mean()\n",
        "        meses_mas_calurosos = promedio_max_por_mes.sort_values(ascending=False).head(3).index.tolist()\n",
        "\n",
        "        # Filtrar días de esos meses\n",
        "        df_dias = df_año[df_año['mes'].isin(meses_mas_calurosos)][['dia', 'mes', 'temperature_2m_max', 'diferencia_aparente', 'amplitud_termica']].copy()\n",
        "\n",
        "        # Clasificación climática\n",
        "        def clasificar_clima(temp):\n",
        "            if temp < 20:\n",
        "                return 'Frío'\n",
        "            elif 20 <= temp < 30:\n",
        "                return 'Agradable'\n",
        "            else:\n",
        "                return 'Caluroso'\n",
        "\n",
        "        df_dias['Clima'] = df_dias['temperature_2m_max'].apply(clasificar_clima)\n",
        "        df_dias['Mes_nombre'] = df_dias['mes'].map(nombres_meses)\n",
        "\n",
        "        # Crear tabla cruzada\n",
        "        df_heat = pd.crosstab(df_dias['Clima'], df_dias['Mes_nombre'])\n",
        "\n",
        "        # Asegurar orden de filas\n",
        "        orden_clima = ['Frío', 'Agradable', 'Caluroso']\n",
        "        df_heat = df_heat.reindex(index=orden_clima)\n",
        "\n",
        "        # Crear heatmap\n",
        "        plt.figure(figsize=(8, 6))\n",
        "        sns.heatmap(df_heat, annot=True, cmap='viridis', fmt='.0f', cbar_kws={\"label\": \"Cantidad de Días\"})\n",
        "        plt.title(f\"Distribución de Climas - {city} ({año})\")\n",
        "        plt.xlabel('Mes')\n",
        "        plt.ylabel('Tipo de Clima')\n",
        "        plt.tight_layout()\n",
        "        plt.show()\n"
      ]
    },
    {
      "cell_type": "markdown",
      "metadata": {
        "id": "GwsguvjwG9t4"
      },
      "source": [
        "###Periodos frios"
      ]
    },
    {
      "cell_type": "code",
      "execution_count": null,
      "metadata": {
        "id": "OWjRBxjiKyA4"
      },
      "outputs": [],
      "source": [
        "nombres_meses = {\n",
        "    1: 'Enero', 2: 'Febrero', 3: 'Marzo',\n",
        "    4: 'Abril', 5: 'Mayo', 6: 'Junio',\n",
        "    7: 'Julio', 8: 'Agosto', 9: 'Septiembre',\n",
        "    10: 'Octubre', 11: 'Noviembre', 12: 'Diciembre'\n",
        "}\n",
        "\n",
        "for city in ciudades:\n",
        "    print(f\"\\n===== {city} =====\")\n",
        "    df_ciudad = df_filtrado[df_filtrado['city_name'] == city]\n",
        "\n",
        "    for año in df_ciudad['año'].unique():\n",
        "        df_año = df_ciudad[df_ciudad['año'] == año]\n",
        "\n",
        "        # Calcular los 3 meses más calurosos\n",
        "        promedio_min_por_mes = df_año.groupby('mes')['temperature_2m_min'].mean()\n",
        "        meses_menos_calurosos = promedio_max_por_mes.sort_values(ascending=False).head(3).index.tolist()\n",
        "\n",
        "        # Filtrar días de esos meses\n",
        "        df_dias_frios = df_año[df_año['mes'].isin(meses_menos_calurosos)][['dia', 'mes', 'temperature_2m_min']].copy()\n",
        "\n",
        "        # Clasificación climática\n",
        "        def clasificar_clima(temp):\n",
        "            if temp < 20:\n",
        "                return 'Frío'\n",
        "            elif 20 <= temp < 30:\n",
        "                return 'Agradable'\n",
        "            else:\n",
        "                return 'Caluroso'\n",
        "\n",
        "        df_dias_frios['Clima'] = df_dias_frios['temperature_2m_min'].apply(clasificar_clima)\n",
        "        df_dias_frios['Mes_nombre'] = df_dias_frios['mes'].map(nombres_meses)\n",
        "\n",
        "        # Crear tabla cruzada\n",
        "        df_frios = pd.crosstab(df_dias_frios['Clima'], df_dias_frios['Mes_nombre']) # Change df_frio to df_frios\n",
        "\n",
        "        # Asegurar orden de filas\n",
        "        orden_clima = ['Frío', 'Agradable', 'Caluroso']\n",
        "        df_frios = df_frios.reindex(index=orden_clima)\n",
        "\n",
        "        # Crear heatmap\n",
        "        plt.figure(figsize=(8, 6))\n",
        "        sns.heatmap(df_frios, annot=True, cmap='viridis', fmt='.0f', cbar_kws={\"label\": \"Cantidad de Días\"})\n",
        "        plt.title(f\"Distribución de Climas - {city} ({año})\")\n",
        "        plt.xlabel('Mes')\n",
        "        plt.ylabel('Tipo de Clima')\n",
        "        plt.tight_layout()\n",
        "        plt.show()"
      ]
    },
    {
      "cell_type": "markdown",
      "metadata": {
        "id": "JWTiv-DFHRXG"
      },
      "source": [
        "##¿Cómo se distribuye la diferencia entre la temperatura media y la sensación térmica (diferencia aparente) en estas ciudades?\n",
        "\n"
      ]
    },
    {
      "cell_type": "code",
      "execution_count": null,
      "metadata": {
        "id": "zLROfIVIdXv6"
      },
      "outputs": [],
      "source": [
        "for city in ciudades:\n",
        "    print(f\"\\n===== {city} =====\")\n",
        "    df_ciudad = df_filtrado[df_filtrado['city_name'] == city].copy() # Use .copy() to avoid SettingWithCopyWarning\n",
        "\n",
        "    # Ensure 'año', 'mes', and 'dia' columns exist in this specific df_ciudad\n",
        "    # Re-extracting them from the 'datetime' column for robustness\n",
        "    df_ciudad['año'] = df_ciudad['datetime'].dt.year\n",
        "    df_ciudad['mes'] = df_ciudad['datetime'].dt.month\n",
        "    df_ciudad['dia'] = df_ciudad['datetime'].dt.day\n",
        "\n",
        "    # Rename columns to 'year', 'month', 'day' for to_datetime\n",
        "    df_ciudad_renamed = df_ciudad.rename(columns={'año': 'year', 'mes': 'month', 'dia': 'day'})\n",
        "\n",
        "    # Now, construct the 'fecha' column using the renamed columns\n",
        "    # Pass the renamed DataFrame/columns to to_datetime\n",
        "    df_ciudad['fecha'] = pd.to_datetime(df_ciudad_renamed[['year', 'month', 'day']])\n",
        "\n",
        "    for año in df_ciudad['año'].unique():\n",
        "        df_año = df_ciudad[df_ciudad['año'] == año].copy() # Use .copy() here too\n",
        "\n",
        "        # Obtener número de semana ISO\n",
        "        df_año['semana'] = df_año['fecha'].dt.isocalendar().week\n",
        "\n",
        "        # Agrupar por semana y sacar media de diferencia_aparente\n",
        "        df_semana = df_año.groupby('semana')['diferencia_aparente'].mean().reset_index()\n",
        "\n",
        "        # Histograma o gráfico de barras para mostrar la diferencia media por semana\n",
        "        fig = px.bar(df_semana, x='semana', y='diferencia_aparente',\n",
        "                     title=f\"Diferencia aparente media por semana en {city} - {año}\",\n",
        "                     labels={'semana': 'Semana del año', 'diferencia_aparente': 'Diferencia aparente'})\n",
        "        fig.show()"
      ]
    },
    {
      "cell_type": "markdown",
      "metadata": {
        "id": "ehpvmahiIJ3h"
      },
      "source": [
        "##¿Cómo se distribuye la diferencia entre la temperatura máxima y mínima (amplitud térmica) en estas ciudades?"
      ]
    },
    {
      "cell_type": "code",
      "execution_count": null,
      "metadata": {
        "id": "pKBlEW0wkRqA"
      },
      "outputs": [],
      "source": [
        "for city in ciudades:\n",
        "    print(f\"\\n===== {city} =====\")\n",
        "    df_ciudad = df_filtrado[df_filtrado['city_name'] == city].copy() # Use .copy() to avoid SettingWithCopyWarning\n",
        "\n",
        "    # Ensure 'año', 'mes', and 'dia' columns exist in this specific df_ciudad\n",
        "    # Re-extracting them from the 'datetime' column for robustness\n",
        "    df_ciudad['año'] = df_ciudad['datetime'].dt.year\n",
        "    df_ciudad['mes'] = df_ciudad['datetime'].dt.month\n",
        "    df_ciudad['dia'] = df_ciudad['datetime'].dt.day\n",
        "\n",
        "    # Rename columns to 'year', 'month', 'day' for to_datetime\n",
        "    df_ciudad_renamed = df_ciudad.rename(columns={'año': 'year', 'mes': 'month', 'dia': 'day'})\n",
        "\n",
        "    # Now, construct the 'fecha' column using the renamed columns\n",
        "    # Pass the renamed DataFrame/columns to to_datetime\n",
        "    df_ciudad['fecha'] = pd.to_datetime(df_ciudad_renamed[['year', 'month', 'day']])\n",
        "\n",
        "    for año in df_ciudad['año'].unique():\n",
        "        df_año = df_ciudad[df_ciudad['año'] == año].copy() # Use .copy() here too\n",
        "\n",
        "        # Obtener número de semana ISO\n",
        "        df_año['semana'] = df_año['fecha'].dt.isocalendar().week\n",
        "\n",
        "        # Agrupar por semana y sacar media de diferencia_aparente\n",
        "        df_semana = df_año.groupby('semana')['amplitud_termica'].mean().reset_index()\n",
        "\n",
        "        # Histograma o gráfico de barras para mostrar la diferencia media por semana\n",
        "        fig = px.bar(df_semana, x='semana', y='amplitud_termica',\n",
        "                     title=f\"Diferencia aparente media por semana en {city} - {año}\",\n",
        "                     labels={'semana': 'Semana del año', 'amplitud_termica': 'amplitud_termica'})\n",
        "        fig.show()"
      ]
    },
    {
      "cell_type": "code",
      "execution_count": null,
      "metadata": {
        "id": "tgmlaBE-iKRM"
      },
      "outputs": [],
      "source": [
        "import seaborn as sns\n",
        "import pandas as pd\n",
        "import matplotlib.pyplot as plt\n",
        "from sklearn.cluster import KMeans\n",
        "from sklearn.preprocessing import StandardScaler"
      ]
    },
    {
      "cell_type": "code",
      "execution_count": null,
      "metadata": {
        "id": "NV4ZcWIdihJW"
      },
      "outputs": [],
      "source": [
        "for city in ciudades:\n",
        "    df_ciudad = df_filtrado[df_filtrado['city_name'] == city].copy()\n",
        "    df_filtrado = df_filtrado.dropna()\n"
      ]
    },
    {
      "cell_type": "code",
      "execution_count": null,
      "metadata": {
        "id": "C7lxLZv8i7VG"
      },
      "outputs": [],
      "source": [
        "for city in ciudades:\n",
        "    df_ciudad = df_filtrado[df_filtrado['city_name'] == city].copy()\n",
        "    x = df_ciudad[['temperature_2m_max', 'temperature_2m_min', 'temperature_2m_mean']]"
      ]
    },
    {
      "cell_type": "code",
      "execution_count": null,
      "metadata": {
        "id": "eKZ-RcPCjqpl"
      },
      "outputs": [],
      "source": [
        "for city in ciudades:\n",
        "    df_ciudad = df_filtrado[df_filtrado['city_name'] == city].copy()\n",
        "    scaler = StandardScaler()\n",
        "    x_scaled = scaler.fit_transform(x)"
      ]
    },
    {
      "cell_type": "code",
      "execution_count": null,
      "metadata": {
        "id": "G_P0l18dj1nE"
      },
      "outputs": [],
      "source": [
        "for city in ciudades:\n",
        "    df_ciudad = df_filtrado[df_filtrado['city_name'] == city].copy()\n",
        "    kmeans = KMeans(n_clusters=3, random_state=42)\n",
        "    kmeans.fit(x_scaled)\n",
        "    df_ciudad['cluster'] = kmeans.labels_"
      ]
    },
    {
      "cell_type": "code",
      "execution_count": null,
      "metadata": {
        "id": "IdwHzj8wkDqe"
      },
      "outputs": [],
      "source": [
        "for city in ciudades:\n",
        "    df_ciudad = df_filtrado[df_filtrado['city_name'] == city].copy()\n",
        "    # Add clustering and label assignment here\n",
        "    x = df_ciudad[['temperature_2m_max', 'temperature_2m_min', 'temperature_2m_mean']]\n",
        "    scaler = StandardScaler()\n",
        "    x_scaled = scaler.fit_transform(x)\n",
        "    kmeans = KMeans(n_clusters=3, random_state=42, n_init=10) # Added n_init for KMeans\n",
        "    kmeans.fit(x_scaled)\n",
        "    df_ciudad['cluster'] = kmeans.labels_\n",
        "\n",
        "    centroids = kmeans.cluster_centers_\n",
        "    centroids_original = scaler.inverse_transform(centroids)\n",
        "    plt.figure(figsize=(8, 6))\n",
        "    colors = ['red', 'green', 'blue']\n",
        "    for i, color in zip(range(3), colors):\n",
        "      cluster_data = df_ciudad[df_ciudad['cluster'] == i]\n",
        "      # Assuming you want to plot the temperature data that was used for clustering\n",
        "      plt.scatter(cluster_data['temperature_2m_mean'], cluster_data['temperature_2m_max'], c=color, label=f'Cluster {i}') # Modified to use temperature columns\n",
        "\n",
        "    # Plotting centroids on the same axes as scatter plot\n",
        "    plt.scatter(centroids_original[:, 2], centroids_original[:, 0], color='black', marker='X', s=200, label='Centroids', zorder=10) # Modified to use temperature columns\n",
        "\n",
        "    plt.title(f'Clustering de k-means para {city} (con centroides)') # Added city name to title\n",
        "    plt.xlabel('Temperatura Media (°C)') # Modified x-axis label\n",
        "    plt.ylabel('Temperatura Máxima (°C)') # Modified y-axis label\n",
        "    plt.legend()\n",
        "    plt.show()"
      ]
    },
    {
      "cell_type": "code",
      "execution_count": null,
      "metadata": {
        "id": "cZZsw7cwwPq_"
      },
      "outputs": [],
      "source": [
        "from sklearn.model_selection import train_test_split\n",
        "from sklearn.ensemble import RandomForestClassifier, BaggingClassifier\n",
        "from sklearn.metrics import accuracy_score\n",
        "\n",
        "# Define y outside the loop using the 'clima_categoria' column\n",
        "y = df_filtrado['clima_categoria']\n",
        "\n",
        "for city in ciudades:\n",
        "    df_ciudad = df_filtrado[df_filtrado['city_name'] == city].copy()\n",
        "    # Define x for the current city within the loop\n",
        "    x = df_ciudad[['temperature_2m_max', 'temperature_2m_min', 'temperature_2m_mean']]\n",
        "    # Filter y to match the current city's data\n",
        "    y_ciudad = y[df_filtrado['city_name'] == city]\n",
        "\n",
        "    # Ensure that x and y_ciudad have the same number of samples before splitting\n",
        "    if len(x) == len(y_ciudad):\n",
        "        x_train, x_test, y_train, y_test = train_test_split(x, y_ciudad, test_size=0.2, random_state=42)\n",
        "\n",
        "        base_model = RandomForestClassifier(random_state=42)\n",
        "\n",
        "        bagging_model = BaggingClassifier(estimator=base_model, n_estimators=10, random_state=42)\n",
        "        bagging_model.fit(x_train, y_train)\n",
        "        y_pred = bagging_model.predict(x_test)\n",
        "        accuracy = accuracy_score(y_test, y_pred)\n",
        "        print(f\"Exactitud del modelo con random Forest para {city}: {accuracy:.4f}\")\n",
        "    else:\n",
        "        print(f\"Skipping {city} due to inconsistent sample sizes between features (x) and target (y).\")"
      ]
    },
    {
      "cell_type": "markdown",
      "metadata": {
        "id": "gsJdqeo4LihW"
      },
      "source": [
        "#Ciudades con menor promedio de temperatura"
      ]
    },
    {
      "cell_type": "markdown",
      "metadata": {
        "id": "194-O6rrLwBe"
      },
      "source": [
        "##¿Cómo varían las diferentes variables de temperatura (máxima, mínima, media, aparente) a lo largo del año en las ciudades más frias?"
      ]
    },
    {
      "cell_type": "code",
      "execution_count": null,
      "metadata": {
        "id": "FrYv4smMwjig"
      },
      "outputs": [],
      "source": [
        "import plotly.graph_objects as go\n",
        "from plotly.subplots import make_subplots\n",
        "\n",
        "# Filtrar por año\n",
        "df_filtrado_frio = df_filtrado_frio[df_filtrado_frio['año'].between(2020, 2025)]\n",
        "\n",
        "# Obtener ciudades del dataframe filtrado\n",
        "ciudades_frio = df_filtrado_frio['city_name'].unique()\n",
        "\n",
        "# Iterar sobre cada ciudad\n",
        "for city in ciudades_frio:\n",
        "    print(f\"\\n===== {city} =====\")\n",
        "\n",
        "    # Filtrar datos para la ciudad\n",
        "    df_ciudad_frio = df_filtrado_frio[df_filtrado_frio['city_name'] == city]\n",
        "\n",
        "    # Agrupar por año y calcular promedios\n",
        "    promedio_anual_calor = df_ciudad_frio.groupby('año')['temperature_2m_max'].mean()\n",
        "    promedio_total_calor = promedio_anual_calor.mean()\n",
        "\n",
        "    promedio_anual_frio = df_ciudad_frio.groupby('año')['temperature_2m_min'].mean()\n",
        "    promedio_total_frio = promedio_anual_frio.mean()\n",
        "\n",
        "    promedio_anual_medio = df_ciudad_frio.groupby('año')['temperature_2m_mean'].mean()\n",
        "    promedio_total_medio = promedio_anual_medio.mean()\n",
        "\n",
        "    promedio_anual_aparente = df_ciudad_frio.groupby('año')['apparent_temperature_mean'].mean()\n",
        "    promedio_total_aparente = promedio_anual_aparente.mean()\n",
        "\n",
        "    promedio_anual_amplitud = df_ciudad_frio.groupby('año')['amplitud_termica'].mean()\n",
        "    promedio_total_amplitud = promedio_anual_amplitud.mean()\n",
        "\n",
        "    # Crear gráfico de barras\n",
        "    fig_subplots = make_subplots(\n",
        "        rows=2, cols=3,\n",
        "        subplot_titles=[\n",
        "            \"Promedio de calor por año\",\n",
        "            \"Promedio de frío por año\",\n",
        "            \"Promedio de temperatura media por año\",\n",
        "            \"Temperatura aparente por año\",\n",
        "            \"Amplitud térmica por año\"\n",
        "        ]\n",
        "    )\n",
        "\n",
        "    fig_subplots.add_trace(go.Bar(x=promedio_anual_calor.index, y=promedio_anual_calor, name=\"Temp. Máxima\"), row=1, col=1)\n",
        "    fig_subplots.add_trace(go.Bar(x=promedio_anual_frio.index, y=promedio_anual_frio, name=\"Temp. Mínima\"), row=1, col=2)\n",
        "    fig_subplots.add_trace(go.Bar(x=promedio_anual_medio.index, y=promedio_anual_medio, name=\"Temp. Media\"), row=1, col=3)\n",
        "    fig_subplots.add_trace(go.Bar(x=promedio_anual_aparente.index, y=promedio_anual_aparente, name=\"Temp. Aparente\"), row=2, col=1)\n",
        "    fig_subplots.add_trace(go.Bar(x=promedio_anual_amplitud.index, y=promedio_anual_amplitud, name=\"Amplitud Térmica\"), row=2, col=2)\n",
        "\n",
        "    fig_subplots.update_layout(height=700, width=1900, title_text=f\"Promedios de temperatura en {city} (2020-2025)\")\n",
        "    fig_subplots.show()\n",
        "\n",
        "    # Mostrar promedios en consola\n",
        "    print(f\"Promedio de temperatura máxima (2020–2025): {promedio_total_calor:.2f} °C\")\n",
        "    print(f\"Promedio de temperatura mínima (2020–2025): {promedio_total_frio:.2f} °C\")\n",
        "    print(f\"Promedio de temperatura media (2020–2025): {promedio_total_medio:.2f} °C\")\n",
        "    print(f\"Promedio de temperatura aparente (2020–2025): {promedio_total_aparente:.2f} °C\")\n",
        "    print(f\"Promedio de amplitud térmica (2020–2025): {promedio_total_amplitud:.2f} °C\")"
      ]
    },
    {
      "cell_type": "markdown",
      "metadata": {
        "id": "PjKqq1NGL3if"
      },
      "source": [
        "##¿Cuáles son los meses con mayor y menor temperatura en estas ciudades?"
      ]
    },
    {
      "cell_type": "code",
      "execution_count": null,
      "metadata": {
        "id": "ff0EwGn7JDxk"
      },
      "outputs": [],
      "source": [
        "for city in ciudades_frio:\n",
        "    print(f\"\\n===== {city} =====\")\n",
        "\n",
        "    # Filtrar datos para la ciudad\n",
        "    df_ciudad_frio = df_filtrado_frio[df_filtrado_frio['city_name'] == city]\n",
        "\n",
        "    for año in df_ciudad_fria['año'].unique():\n",
        "        df_año_fria = df_ciudad_fria[df_ciudad_fria['año'] == año]\n",
        "\n",
        "        # Agrupar por mes y calcular promedios\n",
        "        promedio_min_fria = df_año_fria.groupby('mes')['temperature_2m_min'].mean()\n",
        "        promedio_max_fria = df_año_fria.groupby('mes')['temperature_2m_max'].mean()\n",
        "\n",
        "        # Obtener el índice (meses) del promedio mínimo para la ciudad fría actual\n",
        "        x = promedio_min_fria.index  # Changed this line to get the index from the current city's data\n",
        "        width = 0.35  # ancho de las barras\n",
        "\n",
        "        plt.figure(figsize=(12, 6))\n",
        "        plt.bar(x - 0.175, promedio_min_fria.values, width=width, color='orange', label='Temp. Mínima')\n",
        "        plt.bar(x + 0.175, promedio_max_fria.values, width=width, color='red', alpha=0.7, label='Temp. Máxima')\n",
        "\n",
        "        plt.title(f'Temperaturas Promedio por Mes - {año} - {city}', fontsize=14)  # Changed this line to display the year correctly\n",
        "        plt.xlabel('Mes', fontsize=12)\n",
        "        plt.ylabel('Temperatura (°C)', fontsize=12)\n",
        "        plt.legend()\n",
        "        plt.xticks(ticks=x, labels=[f'Mes {m}' for m in x], rotation=45)\n",
        "        plt.tight_layout()\n",
        "        plt.show()\n",
        "\n",
        "        # Detectar los 3 meses más cálidos y más fríos\n",
        "        meses_maximos_fria = promedio_max_fria.sort_values(ascending=False).head(3)\n",
        "        meses_minimos_fria = promedio_min_fria.sort_values(ascending=True).head(3)\n",
        "\n",
        "        print(f\"\\nTop 3 meses más calurosos (Temp. máxima promedio más alta):\")\n",
        "        for mes, temp in meses_maximos_fria.items():\n",
        "            print(f\"  Mes {mes}: {temp:.2f} °C\")\n",
        "\n",
        "        print(f\"\\nTop 3 meses más fríos (Temp. mínima promedio más baja):\")\n",
        "        for mes, temp in meses_minimos_fria.items():\n",
        "            print(f\"  Mes {mes}: {temp:.2f} °C\")"
      ]
    },
    {
      "cell_type": "markdown",
      "metadata": {
        "id": "04WQ2zBHL-Ir"
      },
      "source": [
        "##¿Qué meses tienen más días con temperaturas agradables (entre 20 y 30 grados) en las ciudades más calurosas?"
      ]
    },
    {
      "cell_type": "markdown",
      "metadata": {
        "id": "9T3g4z_iMEUO"
      },
      "source": [
        "###Periodos calidos"
      ]
    },
    {
      "cell_type": "code",
      "execution_count": null,
      "metadata": {
        "id": "MUzwXchpydcV"
      },
      "outputs": [],
      "source": [
        "nombres_meses = {\n",
        "    1: 'Enero', 2: 'Febrero', 3: 'Marzo',\n",
        "    4: 'Abril', 5: 'Mayo', 6: 'Junio',\n",
        "    7: 'Julio', 8: 'Agosto', 9: 'Septiembre',\n",
        "    10: 'Octubre', 11: 'Noviembre', 12: 'Diciembre'\n",
        "}\n",
        "\n",
        "for city in ciudades_frio:\n",
        "    print(f\"\\n===== {city} =====\")\n",
        "    df_ciudad_fria = df_filtrado_frio[df_filtrado_frio['city_name'] == city]\n",
        "\n",
        "    for año in df_ciudad_fria['año'].unique():\n",
        "        df_año = df_ciudad_fria[df_ciudad_fria['año'] == año]\n",
        "\n",
        "        # Calcular los 3 meses más calurosos\n",
        "        promedio_max_por_mes = df_año.groupby('mes')['temperature_2m_max'].mean()\n",
        "        meses_mas_calurosos = promedio_max_por_mes.sort_values(ascending=False).head(3).index.tolist()\n",
        "\n",
        "        # Filtrar días de esos meses\n",
        "        df_dias = df_año[df_año['mes'].isin(meses_mas_calurosos)][['dia', 'mes', 'temperature_2m_max']].copy()\n",
        "\n",
        "        # Clasificación climática\n",
        "        def clasificar_clima(temp):\n",
        "            if temp < 20:\n",
        "                return 'Frío'\n",
        "            elif 20 <= temp < 30:\n",
        "                return 'Agradable'\n",
        "            else:\n",
        "                return 'Caluroso'\n",
        "\n",
        "        df_dias['Clima'] = df_dias['temperature_2m_max'].apply(clasificar_clima)\n",
        "        df_dias['Mes_nombre'] = df_dias['mes'].map(nombres_meses)\n",
        "\n",
        "        # Crear tabla cruzada\n",
        "        df_heat = pd.crosstab(df_dias['Clima'], df_dias['Mes_nombre'])\n",
        "\n",
        "        # Asegurar orden de filas\n",
        "        orden_clima = ['Frío', 'Agradable', 'Caluroso']\n",
        "        df_heat = df_heat.reindex(index=orden_clima)\n",
        "\n",
        "        # Crear heatmap\n",
        "        plt.figure(figsize=(7, 5))\n",
        "        sns.heatmap(df_heat, annot=True, cmap='viridis', fmt='.0f', cbar_kws={\"label\": \"Cantidad de Días\"})\n",
        "        plt.title(f\"Distribución de Climas - {city} ({año})\")\n",
        "        plt.xlabel('Mes')\n",
        "        plt.ylabel('Tipo de Clima')\n",
        "        plt.tight_layout()\n",
        "        plt.show()"
      ]
    },
    {
      "cell_type": "markdown",
      "metadata": {
        "id": "RLs9liUoMILJ"
      },
      "source": [
        "###Periodos frios"
      ]
    },
    {
      "cell_type": "code",
      "execution_count": null,
      "metadata": {
        "id": "54v6q0CdzNna"
      },
      "outputs": [],
      "source": [
        "nombres_meses = {\n",
        "    1: 'Enero', 2: 'Febrero', 3: 'Marzo',\n",
        "    4: 'Abril', 5: 'Mayo', 6: 'Junio',\n",
        "    7: 'Julio', 8: 'Agosto', 9: 'Septiembre',\n",
        "    10: 'Octubre', 11: 'Noviembre', 12: 'Diciembre'\n",
        "}\n",
        "\n",
        "for city in ciudades_frio:\n",
        "    print(f\"\\n===== {city} =====\")\n",
        "    df_ciudad_fria = df_filtrado_frio[df_filtrado_frio['city_name'] == city]\n",
        "\n",
        "    for año in df_ciudad_fria['año'].unique():\n",
        "        df_año = df_ciudad_fria[df_ciudad_fria['año'] == año]\n",
        "\n",
        "        # Calcular los 3 meses más calurosos\n",
        "        promedio_min_por_mes = df_año.groupby('mes')['temperature_2m_min'].mean()\n",
        "        meses_menos_calurosos = promedio_max_por_mes.sort_values(ascending=False).head(3).index.tolist()\n",
        "\n",
        "        # Filtrar días de esos meses\n",
        "        df_dias_frios = df_año[df_año['mes'].isin(meses_menos_calurosos)][['dia', 'mes', 'temperature_2m_min']].copy()\n",
        "\n",
        "        # Clasificación climática\n",
        "        def clasificar_clima(temp):\n",
        "            if temp < 20:\n",
        "                return 'Frío'\n",
        "            elif 20 <= temp < 30:\n",
        "                return 'Agradable'\n",
        "            else:\n",
        "                return 'Caluroso'\n",
        "\n",
        "        df_dias_frios['Clima'] = df_dias_frios['temperature_2m_min'].apply(clasificar_clima)\n",
        "        df_dias_frios['Mes_nombre'] = df_dias_frios['mes'].map(nombres_meses)\n",
        "\n",
        "        # Crear tabla cruzada\n",
        "        df_frios = pd.crosstab(df_dias_frios['Clima'], df_dias_frios['Mes_nombre']) # Change df_frio to df_frios\n",
        "\n",
        "        # Asegurar orden de filas\n",
        "        orden_clima = ['Frío', 'Agradable', 'Caluroso']\n",
        "        df_frios = df_frios.reindex(index=orden_clima)\n",
        "\n",
        "        # Crear heatmap\n",
        "        plt.figure(figsize=(8, 6))\n",
        "        sns.heatmap(df_frios, annot=True, cmap='viridis', fmt='.0f', cbar_kws={\"label\": \"Cantidad de Días\"})\n",
        "        plt.title(f\"Distribución de Climas - {city} ({año})\")\n",
        "        plt.xlabel('Mes')\n",
        "        plt.ylabel('Tipo de Clima')\n",
        "        plt.tight_layout()\n",
        "        plt.show()\n"
      ]
    },
    {
      "cell_type": "markdown",
      "metadata": {
        "id": "yvRLT1YpML6y"
      },
      "source": [
        "##¿Cómo se distribuye la diferencia entre la temperatura media y la sensación térmica (diferencia aparente) en estas ciudades?"
      ]
    },
    {
      "cell_type": "code",
      "execution_count": null,
      "metadata": {
        "id": "26mehU3SvC9p"
      },
      "outputs": [],
      "source": [
        "for city in ciudades_frio:\n",
        "    print(f\"\\n===== {city} =====\")\n",
        "    df_ciudad_frio = df_filtrado_frio[df_filtrado_frio['city_name'] == city].copy()\n",
        "\n",
        "    df_ciudad_frio['año'] = df_ciudad_frio['datetime'].dt.year\n",
        "    df_ciudad_frio['mes'] = df_ciudad_frio['datetime'].dt.month\n",
        "    df_ciudad_frio['dia'] = df_ciudad_frio['datetime'].dt.day\n",
        "\n",
        "    df_ciudad_renamed_frio = df_ciudad_frio.rename(columns={'año': 'year', 'mes': 'month', 'dia': 'day'})\n",
        "\n",
        "    df_ciudad_frio['fecha'] = pd.to_datetime(df_ciudad_renamed_frio[['year', 'month', 'day']])\n",
        "\n",
        "    for año in df_ciudad_frio['año'].unique():\n",
        "        df_año_frio = df_ciudad_frio[df_ciudad_frio['año'] == año].copy() # Use .copy() here too\n",
        "\n",
        "        df_año_frio['semana'] = df_año_frio['fecha'].dt.isocalendar().week\n",
        "\n",
        "        df_semana_frio = df_año_frio.groupby('semana')['diferencia_aparente'].mean().reset_index()\n",
        "\n",
        "        fig = px.bar(df_semana_frio, x='semana', y='diferencia_aparente',\n",
        "                     title=f\"Diferencia aparente media por semana en {city} - {año}\",\n",
        "                     labels={'semana': 'Semana del año', 'diferencia_aparente': 'Diferencia aparente'})\n",
        "        fig.show()"
      ]
    },
    {
      "cell_type": "markdown",
      "metadata": {
        "id": "-zwoYrjdMrvC"
      },
      "source": [
        "##¿Cómo se distribuye la diferencia entre la temperatura máxima y mínima (amplitud térmica) en estas ciudades?"
      ]
    },
    {
      "cell_type": "code",
      "execution_count": null,
      "metadata": {
        "id": "lhwdi-ExEi0w"
      },
      "outputs": [],
      "source": [
        "for city in ciudades_frio:\n",
        "    print(f\"\\n===== {city} =====\")\n",
        "    df_ciudad_frio = df_filtrado_frio[df_filtrado_frio['city_name'] == city].copy()\n",
        "\n",
        "    df_ciudad_frio['año'] = df_ciudad_frio['datetime'].dt.year\n",
        "    df_ciudad_frio['mes'] = df_ciudad_frio['datetime'].dt.month\n",
        "    df_ciudad_frio['dia'] = df_ciudad_frio['datetime'].dt.day\n",
        "\n",
        "    df_ciudad_renamed_frio = df_ciudad_frio.rename(columns={'año': 'year', 'mes': 'month', 'dia': 'day'})\n",
        "\n",
        "    df_ciudad_frio['fecha'] = pd.to_datetime(df_ciudad_renamed_frio[['year', 'month', 'day']])\n",
        "\n",
        "    for año in df_ciudad_frio['año'].unique():\n",
        "        df_año_frio = df_ciudad_frio[df_ciudad_frio['año'] == año].copy()\n",
        "\n",
        "        df_año_frio['semana'] = df_año_frio['fecha'].dt.isocalendar().week\n",
        "\n",
        "        df_semana_frio = df_año_frio.groupby('semana')['amplitud_termica'].mean().reset_index()\n",
        "\n",
        "        fig = px.bar(df_semana_frio, x='semana', y='amplitud_termica',\n",
        "                     title=f\"Diferencia aparente media por semana en {city} - {año}\",\n",
        "                     labels={'semana': 'Semana del año', 'amplitud_termica': 'Amplitud termica'})\n",
        "        fig.show()"
      ]
    },
    {
      "cell_type": "code",
      "execution_count": null,
      "metadata": {
        "id": "HyoMDaaU4FiW"
      },
      "outputs": [],
      "source": [
        "for city in ciudades_frio:\n",
        "    df_ciudad_fria = df_filtrado_frio[df_filtrado_frio['city_name'] == city]\n",
        "    df_filtrado_frio = df_filtrado_frio.dropna()\n"
      ]
    },
    {
      "cell_type": "code",
      "execution_count": null,
      "metadata": {
        "id": "ftW7sjcK4W-S"
      },
      "outputs": [],
      "source": [
        "for city in ciudades_frio:\n",
        "    df_ciudad_fria = df_filtrado_frio[df_filtrado_frio['city_name'] == city]\n",
        "    x = df_ciudad_fria[['temperature_2m_max', 'temperature_2m_min', 'temperature_2m_mean']]"
      ]
    },
    {
      "cell_type": "code",
      "execution_count": null,
      "metadata": {
        "id": "tTDTpMxD4mSz"
      },
      "outputs": [],
      "source": [
        "for city in ciudades_frio:\n",
        "    df_ciudad_fria = df_filtrado_frio[df_filtrado_frio['city_name'] == city]\n",
        "    scaler = StandardScaler()\n",
        "    x_scaled = scaler.fit_transform(x)"
      ]
    },
    {
      "cell_type": "code",
      "execution_count": null,
      "metadata": {
        "id": "xFg4l7bG42HR"
      },
      "outputs": [],
      "source": [
        "for city in ciudades_frio:\n",
        "    df_ciudad_fria = df_filtrado_frio[df_filtrado_frio['city_name'] == city]\n",
        "    kmeans = KMeans(n_clusters=3, random_state=42)\n",
        "    kmeans.fit(x_scaled)\n",
        "    df_ciudad_fria['cluster'] = kmeans.labels_"
      ]
    },
    {
      "cell_type": "code",
      "execution_count": null,
      "metadata": {
        "id": "CJdZPukq5NMs"
      },
      "outputs": [],
      "source": [
        "for city in ciudades_frio:\n",
        "    df_ciudad_fria = df_filtrado_frio[df_filtrado_frio['city_name'] == city]\n",
        "    # Add clustering and label assignment here\n",
        "    x = df_ciudad_fria[['temperature_2m_max', 'temperature_2m_min', 'temperature_2m_mean']]\n",
        "    scaler = StandardScaler()\n",
        "    x_scaled = scaler.fit_transform(x)\n",
        "    kmeans = KMeans(n_clusters=3, random_state=42, n_init=10) # Added n_init for KMeans\n",
        "    kmeans.fit(x_scaled)\n",
        "    df_ciudad_fria['cluster'] = kmeans.labels_\n",
        "\n",
        "    centroids = kmeans.cluster_centers_\n",
        "    centroids_original = scaler.inverse_transform(centroids)\n",
        "    plt.figure(figsize=(8, 6))\n",
        "    colors = ['red', 'green', 'blue']\n",
        "    for i, color in zip(range(3), colors):\n",
        "      cluster_data = df_ciudad_fria[df_ciudad_fria['cluster'] == i]\n",
        "      # Assuming you want to plot the temperature data that was used for clustering\n",
        "      plt.scatter(cluster_data['temperature_2m_mean'], cluster_data['temperature_2m_max'], c=color, label=f'Cluster {i}') # Modified to use temperature columns\n",
        "\n",
        "    # Plotting centroids on the same axes as scatter plot\n",
        "    plt.scatter(centroids_original[:, 2], centroids_original[:, 0], color='black', marker='X', s=200, label='Centroids', zorder=10) # Modified to use temperature columns\n",
        "\n",
        "    plt.title(f'Clustering de k-means para {city} (con centroides)') # Added city name to title\n",
        "    plt.xlabel('Temperatura Media (°C)') # Modified x-axis label\n",
        "    plt.ylabel('Temperatura Máxima (°C)') # Modified y-axis label\n",
        "    plt.legend()\n",
        "    plt.show()"
      ]
    },
    {
      "cell_type": "code",
      "source": [
        "from sklearn.model_selection import train_test_split\n",
        "from sklearn.ensemble import RandomForestClassifier, BaggingClassifier\n",
        "from sklearn.metrics import accuracy_score\n",
        "\n",
        "# Define y outside the loop using the 'clima_categoria' column\n",
        "y = df_filtrado_frio['clima_categoria']\n",
        "\n",
        "for city in ciudades_frio:\n",
        "    df_ciudad_fria = df_filtrado_frio[df_filtrado_frio['city_name'] == city]\n",
        "    # Define x for the current city within the loop\n",
        "    x = df_ciudad_fria[['temperature_2m_max', 'temperature_2m_min', 'temperature_2m_mean']]\n",
        "    # Filter y to match the current city's data\n",
        "    y_ciudad = y[df_filtrado_frio['city_name'] == city]\n",
        "\n",
        "    # Ensure that x and y_ciudad have the same number of samples before splitting\n",
        "    if len(x) == len(y_ciudad):\n",
        "        x_train, x_test, y_train, y_test = train_test_split(x, y_ciudad, test_size=0.2, random_state=42)\n",
        "\n",
        "        base_model = RandomForestClassifier(random_state=42)\n",
        "\n",
        "        bagging_model = BaggingClassifier(estimator=base_model, n_estimators=10, random_state=42)\n",
        "        bagging_model.fit(x_train, y_train)\n",
        "        y_pred = bagging_model.predict(x_test)\n",
        "        accuracy = accuracy_score(y_test, y_pred)\n",
        "        print(f\"Exactitud del modelo con random Forest para {city}: {accuracy:.4f}\")\n",
        "    else:\n",
        "        print(f\"Skipping {city} due to inconsistent sample sizes between features (x) and target (y).\")"
      ],
      "metadata": {
        "id": "pu-JmKq_57Im"
      },
      "execution_count": null,
      "outputs": []
    },
    {
      "cell_type": "markdown",
      "metadata": {
        "id": "PYH1HVjLS87p"
      },
      "source": [
        "#Agricultura"
      ]
    },
    {
      "cell_type": "markdown",
      "metadata": {
        "id": "OmHUv9-AM5Y4"
      },
      "source": [
        "##¿Cuáles son las ciudades con las mejores condiciones agroclimáticas en general, considerando temperatura, precipitación, radiación solar y balance hídrico?"
      ]
    },
    {
      "cell_type": "code",
      "execution_count": null,
      "metadata": {
        "id": "fycn6qfHe2qE"
      },
      "outputs": [],
      "source": [
        "import pandas as pd\n",
        "import matplotlib.pyplot as plt\n",
        "\n",
        "df1['datetime'] = pd.to_datetime(df1['datetime'])\n",
        "\n",
        "promedio_por_ciudad_calor = df1.groupby('city_name')['temperature_2m_mean'].mean()\n",
        "\n",
        "top_promedios = promedio_por_ciudad_calor[\n",
        "    (promedio_por_ciudad_calor > 17) & (promedio_por_ciudad_calor < 27)\n",
        "]\n",
        "\n",
        "top_promedios = top_promedios.sort_values(ascending=False)\n",
        "\n",
        "print(\"Ciudades con promedio de temperatura máxima entre 17°C y 27°C:\")\n",
        "\n",
        "top_ciudades_agro = top_promedios.reset_index()\n",
        "\n",
        "\n",
        "plt.figure(figsize=(20, 12))\n",
        "plt.barh(top_ciudades_agro['city_name'], top_ciudades_agro['temperature_2m_mean'], color='green')\n",
        "plt.xlabel('Promedio de clima')\n",
        "plt.title('ciudades con clima aptas para la agricultura')\n",
        "plt.gca().invert_yaxis()\n",
        "plt.show()"
      ]
    },
    {
      "cell_type": "code",
      "execution_count": null,
      "metadata": {
        "id": "W6lHmOBn6-Xm"
      },
      "outputs": [],
      "source": [
        "import pandas as pd\n",
        "\n",
        "df1['datetime'] = pd.to_datetime(df1['datetime'])\n",
        "\n",
        "df_humedad = df2[['city_name', 'datetime', 'relative_humidity_2m', 'dew_point_2m']].copy()\n",
        "df_humedad['datetime'] = pd.to_datetime(df_humedad['datetime'])\n",
        "\n",
        "df_humedad['date'] = pd.to_datetime(df_humedad['datetime'].dt.date)\n",
        "\n",
        "humedad_diaria = df_humedad.groupby(['date', 'city_name'])['relative_humidity_2m'].mean().reset_index()\n",
        "humedad_diaria.rename(columns={'relative_humidity_2m': 'humedad_relativa_promedio'}, inplace=True)\n",
        "\n",
        "temp_diaria = df1.groupby(['datetime', 'city_name'])[['temperature_2m_mean',\n",
        "                                                      'shortwave_radiation_sum',\n",
        "                                                      'wind_speed_10m_max',\n",
        "                                                      'wind_gusts_10m_max',\n",
        "                                                      'wind_direction_10m_dominant',\n",
        "                                                      'precipitation_sum',\n",
        "                                                      'rain_sum',\n",
        "                                                      'snowfall_sum',\n",
        "                                                      'precipitation_hours',\n",
        "                                                      'año',\n",
        "                                                      'mes',\n",
        "                                                      'dia',\n",
        "                                                      'semana',\n",
        "                                                      ]].mean().reset_index()\n",
        "# Rename the 'datetime' column to 'date' for merging\n",
        "temp_diaria.rename(columns={'datetime': 'date'}, inplace=True)\n",
        "\n",
        "# Merge the daily temperature/radiation/wind data with daily humidity data\n",
        "df_agricultura = pd.merge(humedad_diaria, temp_diaria, on=['date', 'city_name'], how='inner')\n",
        "\n",
        "ciudades = top_promedios.index.unique()\n",
        "\n",
        "\n",
        "\n",
        "for city in ciudades:\n",
        "    df_ciudades_agricultura = df_agricultura[df_agricultura['city_name'] == city].copy()\n",
        "\n",
        "    df_pivot_agricultura = df_ciudades_agricultura.set_index('date').sort_index()[[\n",
        "        'año',\n",
        "        'mes',\n",
        "        'dia',\n",
        "        'semana',\n",
        "        'humedad_relativa_promedio',\n",
        "        'temperature_2m_mean',\n",
        "        'shortwave_radiation_sum',\n",
        "        'wind_speed_10m_max',\n",
        "        'wind_gusts_10m_max',\n",
        "        'wind_direction_10m_dominant',\n",
        "        'precipitation_sum',\n",
        "        'rain_sum',\n",
        "        'snowfall_sum',\n",
        "        'precipitation_hours'\n",
        "    ]]\n",
        "\n"
      ]
    },
    {
      "cell_type": "markdown",
      "metadata": {
        "id": "beVEBlrnM__Q"
      },
      "source": [
        "##¿Cuáles son las ciudades con las mejores condiciones agroclimáticas en general, considerando temperatura, precipitación, radiación solar y balance hídrico?"
      ]
    },
    {
      "cell_type": "markdown",
      "metadata": {
        "id": "YBS8OmUKSuve"
      },
      "source": [
        "Queremos ver cómo varían la temperatura media y la precipitación a lo largo del tiempo (mes a mes o semana a semana) para cada ciudad. Este análisis puede ayudar a determinar las temporadas más cálidas o húmedas para las actividades agrícolas."
      ]
    },
    {
      "cell_type": "markdown",
      "source": [
        "###Humedad\n"
      ],
      "metadata": {
        "id": "s-v_dGCPmv4N"
      }
    },
    {
      "cell_type": "code",
      "execution_count": null,
      "metadata": {
        "id": "y_pR8nmbmPmq"
      },
      "outputs": [],
      "source": [
        "import seaborn as sns\n",
        "import matplotlib.pyplot as plt\n",
        "import pandas as pd\n",
        "import math\n",
        "\n",
        "from sklearn.model_selection import train_test_split\n",
        "\n",
        "ciudades_agro = top_promedios.index  # Lista de ciudades a analizar\n",
        "\n",
        "for city in ciudades_agro:\n",
        "    print(f\"\\n===== {city} =====\")\n",
        "\n",
        "    df_ciudades_agricultura = df_agricultura[df_agricultura['city_name'] == city].copy()\n",
        "    unique_years = df_ciudades_agricultura['año'].unique()\n",
        "    num_years = len(unique_years)\n",
        "\n",
        "    if num_years > 0:\n",
        "        n_cols = min(num_years, 3)\n",
        "        n_rows = math.ceil(num_years / n_cols)\n",
        "\n",
        "        fig, axes = plt.subplots(n_rows, n_cols, figsize=(n_cols * 6, n_rows * 5))\n",
        "        axes = axes.flatten()\n",
        "\n",
        "        for i, año in enumerate(unique_years):\n",
        "            df_año_agro = df_ciudades_agricultura[df_ciudades_agricultura['año'] == año].copy()\n",
        "\n",
        "            if 'humedad_relativa_promedio' in df_año_agro.columns:\n",
        "                # Crear condición para análisis (opcional, usada como variable categórica)\n",
        "                df_año_agro['condicion_color'] = df_año_agro['humedad_relativa_promedio'].between(20, 60)\n",
        "\n",
        "            # Graficar si las columnas necesarias existen\n",
        "            if 'temperature_2m_mean' in df_año_agro.columns and 'mes' in df_año_agro.columns:\n",
        "                sns.scatterplot(\n",
        "                    data=df_año_agro,\n",
        "                    x='humedad_relativa_promedio',\n",
        "                    y='temperature_2m_mean',\n",
        "                    hue='mes',\n",
        "                    palette='Spectral',\n",
        "                    ax=axes[i],\n",
        "                )\n",
        "                axes[i].set_title(f\"Año {año}\")\n",
        "                axes[i].set_xlabel('Humedad Relativa Promedio')\n",
        "                axes[i].set_ylabel('Temperatura Media (°C)')\n",
        "            else:\n",
        "                print(f\"No se puede graficar para {city} ({año}): faltan columnas necesarias.\")\n",
        "\n",
        "        # Eliminar subgráficos vacíos si hay menos años que subplots\n",
        "        for j in range(num_years, len(axes)):\n",
        "            fig.delaxes(axes[j])\n",
        "\n",
        "        fig.suptitle(f\"Humedad vs Temperatura en {city} por Año\", fontsize=16, y=1.02)\n",
        "        plt.tight_layout()\n",
        "        plt.show()\n",
        "\n",
        "    else:\n",
        "        print(f\"No hay datos disponibles por año para {city}.\")\n"
      ]
    },
    {
      "cell_type": "code",
      "execution_count": null,
      "metadata": {
        "id": "MURArVbbFgpf"
      },
      "outputs": [],
      "source": [
        "import pandas as pd\n",
        "import matplotlib.pyplot as plt\n",
        "from sklearn.model_selection import train_test_split\n",
        "from sklearn.linear_model import LinearRegression\n",
        "from sklearn.ensemble import RandomForestClassifier\n",
        "from sklearn.metrics import accuracy_score, classification_report\n",
        "\n",
        "\n",
        "ciudades_agro = top_promedios.index\n",
        "\n",
        "for city in ciudades_agro:\n",
        "    print(f\"\\n===== {city} =====\")\n",
        "\n",
        "    df_city = df_agricultura[df_agricultura['city_name'] == city].copy()\n",
        "\n",
        "    df_city = df_city[['temperature_2m_mean', 'humedad_relativa_promedio']].dropna()\n",
        "\n",
        "    if not df_city.empty:\n",
        "        X = df_city[['temperature_2m_mean']]\n",
        "        y = df_city['humedad_relativa_promedio']\n",
        "\n",
        "        x_train, x_test, y_train, y_test = train_test_split(X, y, test_size=0.2, random_state=42)\n",
        "\n",
        "        model = LinearRegression()\n",
        "        model.fit(x_train, y_train)\n",
        "\n",
        "        y_pred = model.predict(x_test)\n",
        "        r2 = model.score(x_test, y_test)\n",
        "\n",
        "        print(f\"R-squared for {city}: {r2:.2f}\")\n",
        "\n",
        "        plt.figure(figsize=(8, 6))\n",
        "        plt.scatter(y_test, y_pred, color='green', label='Predicciones')\n",
        "        plt.plot([y_test.min(), y_test.max()], [y_test.min(), y_test.max()], color='red', linestyle='--', label='Ajuste perfecto')\n",
        "        plt.xlabel('Valores reales de humedad')\n",
        "        plt.ylabel('Valores predichos de humedad')\n",
        "        plt.title(f'Modelo Lineal - {city}')\n",
        "        plt.legend()\n",
        "        plt.tight_layout()\n",
        "        plt.show()\n",
        "    else:\n",
        "        print(f\" No hay datos suficientes para {city} después de eliminar NaNs.\")"
      ]
    },
    {
      "cell_type": "code",
      "execution_count": null,
      "metadata": {
        "id": "W5iTLBqnbTJn"
      },
      "outputs": [],
      "source": [
        "import numpy as np\n",
        "import pandas as pd\n",
        "import matplotlib.pyplot as plt\n",
        "from sklearn.model_selection import train_test_split\n",
        "from sklearn.metrics import confusion_matrix, ConfusionMatrixDisplay\n",
        "from sklearn.ensemble import RandomForestClassifier\n",
        "\n",
        "\n",
        "# Definimos categorías de humedad\n",
        "bins = [0, 40, 70, 100]\n",
        "labels = ['Baja', 'Media', 'Alta']\n",
        "\n",
        "print(\"Columnas disponibles:\", df_agricultura.columns)\n",
        "\n",
        "for city in ciudades_agro:\n",
        "    print(f\"\\n===== {city} =====\")\n",
        "\n",
        "    df_city = df_agricultura[df_agricultura['city_name'] == city].copy()\n",
        "\n",
        "    if not df_city.empty:\n",
        "        # Filtramos columnas necesarias\n",
        "        df_city = df_city[['temperature_2m_mean', 'humedad_relativa_promedio']].dropna()\n",
        "\n",
        "        # Convertimos a numérico por seguridad\n",
        "        df_city['humedad_relativa_promedio'] = pd.to_numeric(\n",
        "            df_city['humedad_relativa_promedio'], errors='coerce'\n",
        "        )\n",
        "        df_city = df_city.dropna()\n",
        "\n",
        "        # Categorizamos la humedad\n",
        "        df_city['humedad_categoria'] = pd.cut(\n",
        "            df_city['humedad_relativa_promedio'], bins=bins, labels=labels, right=False\n",
        "        )\n",
        "\n",
        "        # Eliminamos filas sin categoría\n",
        "        df_city = df_city.dropna(subset=['humedad_categoria'])\n",
        "\n",
        "        # Verificamos que hay al menos 2 clases con suficientes muestras\n",
        "        if df_city['humedad_categoria'].nunique() < 2 or df_city['humedad_categoria'].value_counts().min() < 2:\n",
        "            print(\" No hay suficientes clases o muestras por clase para entrenar.\")\n",
        "            continue\n",
        "\n",
        "        # Definimos X e y\n",
        "        X = df_city[['temperature_2m_mean']]\n",
        "        y = df_city['humedad_categoria']\n",
        "\n",
        "        # Dividimos los datos\n",
        "        x_train, x_test, y_train, y_test = train_test_split(\n",
        "            X, y, test_size=0.2, random_state=42, stratify=y\n",
        "        )\n",
        "\n",
        "        # Entrenamos el modelo\n",
        "        classifier = RandomForestClassifier(random_state=42)\n",
        "        classifier.fit(x_train, y_train)\n",
        "\n",
        "        # Hacemos predicciones\n",
        "        y_pred = classifier.predict(x_test)\n",
        "\n",
        "        # Matriz de confusión\n",
        "        cm = confusion_matrix(y_test, y_pred, labels=labels)\n",
        "        disp = ConfusionMatrixDisplay(confusion_matrix=cm, display_labels=labels)\n",
        "\n",
        "        # Mostramos la gráfica\n",
        "        fig, ax = plt.subplots(figsize=(6, 6))\n",
        "        disp.plot(ax=ax, cmap=plt.cm.Blues, values_format='d')\n",
        "        plt.title(f'Matriz de Confusión - {city}')\n",
        "        plt.xlabel('Predicción')\n",
        "        plt.ylabel('Realidad')\n",
        "        plt.tight_layout()\n",
        "        plt.show()\n",
        "    else:\n",
        "        print(f\" No hay datos suficientes para {city}.\")\n",
        "\n",
        "\n"
      ]
    },
    {
      "cell_type": "markdown",
      "source": [
        "###Velocidad del viento"
      ],
      "metadata": {
        "id": "AtKYKeSym9pJ"
      }
    },
    {
      "cell_type": "code",
      "execution_count": null,
      "metadata": {
        "id": "KIq-Vx1nvcMm"
      },
      "outputs": [],
      "source": [
        "import plotly.express as px\n",
        "\n",
        "ciudades_agro = top_promedios.index\n",
        "\n",
        "for city in ciudades_agro:\n",
        "    print(f\"\\n===== {city} =====\")\n",
        "\n",
        "    df_ciudades_agricultura_city = df_agricultura[df_agricultura['city_name'] == city].copy()\n",
        "\n",
        "    # Eliminar filas con valores faltantes en las columnas relevantes para el gráfico\n",
        "    df_ciudades_agricultura_city = df_ciudades_agricultura_city.dropna(subset=['humedad_relativa_promedio', 'temperature_2m_mean', 'wind_speed_10m_max'])\n",
        "\n",
        "    if not df_ciudades_agricultura_city.empty:\n",
        "        fig = px.scatter(df_ciudades_agricultura_city,\n",
        "                         x=\"humedad_relativa_promedio\",\n",
        "                         y=\"temperature_2m_mean\",\n",
        "                         size=\"wind_speed_10m_max\",\n",
        "                         color=\"año\", # Usar el año para diferenciar los puntos de diferentes años\n",
        "                         hover_name=\"date\", # Mostrar la fecha al pasar el mouse\n",
        "                         title=f\"Humedad vs Temperatura (Tamaño = Velocidad del Viento) en {city} por Año\",\n",
        "                         labels={\"humedad_relativa_promedio\": \"Humedad Relativa Promedio (%)\",\n",
        "                                 \"temperature_2m_mean\": \"Temperatura Media (°C)\",\n",
        "                                 \"wind_speed_10m_max\": \"Velocidad Máxima del Viento (m/s)\"},\n",
        "                         animation_frame=\"año\", # Animar por año\n",
        "                         range_x=[0, 100], # Rango típico para humedad relativa\n",
        "                         # Considerar ajustar el rango y para temperatura según los datos de las ciudades calurosas\n",
        "                         # range_y=[min_temp, max_temp]\n",
        "                        )\n",
        "        fig.update_layout(showlegend=True)\n",
        "        fig.show()\n",
        "    else:\n",
        "        print(f\" No hay datos suficientes para graficar la relación de viento, humedad y temperatura en {city} después de eliminar NaNs.\")"
      ]
    },
    {
      "cell_type": "code",
      "execution_count": null,
      "metadata": {
        "id": "DRSKFXiY9Z_d"
      },
      "outputs": [],
      "source": [
        "import pandas as pd\n",
        "import matplotlib.pyplot as plt\n",
        "from sklearn.model_selection import train_test_split\n",
        "from sklearn.linear_model import LinearRegression\n",
        "from sklearn.metrics import mean_squared_error, r2_score # Importar métricas adicionales\n",
        "import numpy as np # Importar numpy para la raíz cuadrada\n",
        "\n",
        "# Lista de ciudades que quieres analizar\n",
        "ciudades_agro = top_promedios.index  # Asegúrate de que 'top_promedios' sea un DataFrame o Series con índices de tipo string (nombres de ciudad)\n",
        "\n",
        "for city in ciudades_agro:\n",
        "    print(f\"\\n===== {city} =====\")\n",
        "\n",
        "    # Filtrar por ciudad\n",
        "    df_city = df_agricultura[df_agricultura['city_name'] == city].copy()\n",
        "\n",
        "    # Verificar que existan todas las columnas necesarias\n",
        "    required_columns = ['wind_speed_10m_max', 'wind_gusts_10m_max', 'humedad_relativa_promedio']\n",
        "    if not all(col in df_city.columns for col in required_columns):\n",
        "        print(f\"Faltan columnas necesarias en los datos de {city}\")\n",
        "        continue\n",
        "\n",
        "    # Eliminar filas con valores faltantes en las columnas relevantes\n",
        "    df_city = df_city[required_columns].dropna()\n",
        "\n",
        "    # Continuar solo si hay suficientes datos\n",
        "    if not df_city.empty and len(df_city) >= 10:  # puedes ajustar el mínimo de filas requeridas\n",
        "        X = df_city[['wind_speed_10m_max', 'wind_gusts_10m_max']]\n",
        "        y = df_city['humedad_relativa_promedio']\n",
        "\n",
        "        # Dividir datos en entrenamiento y prueba\n",
        "        x_train, x_test, y_train, y_test = train_test_split(X, y, test_size=0.2, random_state=42)\n",
        "\n",
        "        # Entrenar modelo de regresión lineal\n",
        "        model = LinearRegression()\n",
        "        model.fit(x_train, y_train)\n",
        "\n",
        "        # Predecir y evaluar\n",
        "        y_pred = model.predict(x_test)\n",
        "\n",
        "        # Calcular métricas de evaluación\n",
        "        r2 = r2_score(y_test, y_pred)\n",
        "        mse = mean_squared_error(y_test, y_pred)\n",
        "        rmse = np.sqrt(mse) # Calcular RMSE como la raíz cuadrada del MSE\n",
        "\n",
        "        # Mostrar resultados\n",
        "        print(f\"R-squared para {city}: {r2:.2f}\")\n",
        "        print(f\"Mean Squared Error (MSE) para {city}: {mse:.2f}\")\n",
        "        print(f\"Root Mean Squared Error (RMSE) para {city}: {rmse:.2f}\")\n",
        "\n",
        "\n",
        "        # Gráfico de resultados reales vs. predichos\n",
        "        plt.figure(figsize=(8, 6))\n",
        "        plt.scatter(y_test, y_pred, color='green', label='Predicciones')\n",
        "        plt.plot([y_test.min(), y_test.max()], [y_test.min(), y_test.max()],\n",
        "                 color='red', linestyle='--', label='Ajuste perfecto')\n",
        "        plt.xlabel('Valores reales de humedad')\n",
        "        plt.ylabel('Valores predichos de humedad')\n",
        "        plt.title(f'Modelo Lineal - {city}')\n",
        "        plt.legend()\n",
        "        plt.tight_layout()\n",
        "        plt.grid(True)\n",
        "        plt.show()\n",
        "\n",
        "    else:\n",
        "        print(f\"No hay suficientes datos para {city} después de eliminar NaNs.\")"
      ]
    },
    {
      "cell_type": "code",
      "execution_count": null,
      "metadata": {
        "id": "6RifKh3d9Xm1"
      },
      "outputs": [],
      "source": [
        "import numpy as np\n",
        "import pandas as pd\n",
        "import matplotlib.pyplot as plt\n",
        "from sklearn.model_selection import train_test_split\n",
        "from sklearn.metrics import confusion_matrix, ConfusionMatrixDisplay\n",
        "from sklearn.ensemble import RandomForestClassifier\n",
        "\n",
        "\n",
        "# Definimos categorías de velocidad del viento\n",
        "bins_wind = [0, 10, 20, np.inf] # Define wind speed categories (adjust bins as needed)\n",
        "labels_wind = ['Bajo', 'Medio', 'Alto']\n",
        "\n",
        "print(\"Columnas disponibles:\", df_agricultura.columns)\n",
        "\n",
        "for city in ciudades_agro:\n",
        "    print(f\"\\n===== {city} =====\")\n",
        "\n",
        "    df_city = df_agricultura[df_agricultura['city_name'] == city].copy()\n",
        "\n",
        "    if not df_city.empty:\n",
        "        # Filtramos columnas necesarias\n",
        "        df_city = df_city[['temperature_2m_mean', 'wind_speed_10m_max', 'wind_gusts_10m_max']].dropna()\n",
        "\n",
        "        # Convertimos a numérico por seguridad\n",
        "        df_city[['wind_speed_10m_max', 'wind_gusts_10m_max']] = df_city[['wind_speed_10m_max', 'wind_gusts_10m_max']].apply(pd.to_numeric, errors='coerce')\n",
        "        df_city = df_city.dropna()\n",
        "\n",
        "        # Categorizamos la velocidad del viento (usando wind_speed_10m_max como ejemplo)\n",
        "        df_city['wind_category'] = pd.cut(\n",
        "            df_city['wind_speed_10m_max'], bins=bins_wind, labels=labels_wind, right=False\n",
        "        )\n",
        "\n",
        "        # Eliminamos filas sin categoría\n",
        "        df_city = df_city.dropna(subset=['wind_category'])\n",
        "\n",
        "        # Verificamos que hay al menos 2 clases con suficientes muestras\n",
        "        if df_city['wind_category'].nunique() < 2 or df_city['wind_category'].value_counts().min() < 2:\n",
        "            print(\" No hay suficientes clases o muestras por clase para entrenar.\")\n",
        "            continue\n",
        "\n",
        "        # Definimos X e y\n",
        "        # Using both wind speed and gusts as features\n",
        "        X = df_city[['temperature_2m_mean', 'wind_gusts_10m_max']]\n",
        "        y = df_city['wind_category']\n",
        "\n",
        "        # Dividimos los datos\n",
        "        x_train, x_test, y_train, y_test = train_test_split(\n",
        "            X, y, test_size=0.2, random_state=42, stratify=y\n",
        "        )\n",
        "\n",
        "        # Entrenamos el modelo\n",
        "        classifier = RandomForestClassifier(random_state=42)\n",
        "        classifier.fit(x_train, y_train)\n",
        "\n",
        "        # Hacemos predicciones\n",
        "        y_pred = classifier.predict(x_test)\n",
        "\n",
        "        # Matriz de confusión\n",
        "        cm = confusion_matrix(y_test, y_pred, labels=labels_wind) # Use wind labels\n",
        "        disp = ConfusionMatrixDisplay(confusion_matrix=cm, display_labels=labels_wind) # Use wind labels\n",
        "\n",
        "        # Mostramos la gráfica\n",
        "        fig, ax = plt.subplots(figsize=(6, 6))\n",
        "        disp.plot(ax=ax, cmap=plt.cm.Blues, values_format='d')\n",
        "        plt.title(f'Matriz de Confusión - {city}')\n",
        "        plt.xlabel('Predicción')\n",
        "        plt.ylabel('Realidad')\n",
        "        plt.tight_layout()\n",
        "        plt.show()\n",
        "    else:\n",
        "        print(f\" No hay datos suficientes para {city}.\")"
      ]
    },
    {
      "cell_type": "markdown",
      "source": [
        "###Radiacion solar"
      ],
      "metadata": {
        "id": "t9oZUFE3nDsB"
      }
    },
    {
      "cell_type": "code",
      "source": [
        "for city in ciudades_agro:\n",
        "\n",
        "    # Filtrar datos por ciudad\n",
        "    df_city = df_agricultura[df_agricultura['city_name'] == city].copy()\n"
      ],
      "metadata": {
        "id": "tgxh3fyoI61X"
      },
      "execution_count": null,
      "outputs": []
    },
    {
      "cell_type": "code",
      "source": [
        "for city in ciudades_agro:\n",
        "\n",
        "    # Filtrar datos por ciudad\n",
        "    df_city = df_agricultura[df_agricultura['city_name'] == city].copy()\n",
        "\n",
        "    df_city['estado_de_ciudad'] = df1['clima_categoria']"
      ],
      "metadata": {
        "id": "NFzxELPTFW8K"
      },
      "execution_count": null,
      "outputs": []
    },
    {
      "cell_type": "code",
      "source": [
        "import plotly.express as px\n",
        "\n",
        "for city in ciudades_agro:\n",
        "    print(f\"\\n===== {city} =====\")\n",
        "\n",
        "    # Filtrar datos por ciudad\n",
        "    df_city = df_agricultura[df_agricultura['city_name'] == city].copy()\n",
        "\n",
        "    # Asegurarse de que la columna 'date' existe\n",
        "    if 'date' not in df_city.columns:\n",
        "        df_city['date'] = pd.to_datetime(df_city[['año', 'mes', 'dia']])\n",
        "\n",
        "    # Filtrar columnas relevantes y eliminar filas con valores nulos\n",
        "    df_radiacion_solar = df_city[['shortwave_radiation_sum', 'temperature_2m_mean', 'año', 'date']].dropna()\n",
        "\n",
        "    if not df_radiacion_solar.empty:\n",
        "        fig = px.scatter(\n",
        "            df_radiacion_solar,\n",
        "            x=\"shortwave_radiation_sum\",\n",
        "            y=\"temperature_2m_mean\",\n",
        "            color=\"año\",  # Diferenciar por año\n",
        "            hover_name=\"date\",  # Mostrar la fecha\n",
        "            animation_frame=\"año\",  # Crear animación por año\n",
        "            title=f\"Radiación Solar vs Temperatura en {city} por Año\",\n",
        "            labels={\n",
        "                \"shortwave_radiation_sum\": \"Radiación Solar (Wh/m² o MJ/m²)\",\n",
        "                \"temperature_2m_mean\": \"Temperatura Media (°C)\"\n",
        "            },\n",
        "            range_x=[0, 40],  # Ajusta según tus datos reales\n",
        "            # range_y=[min_temp, max_temp]  # Opcional: puedes definir un rango si lo deseas\n",
        "        )\n",
        "\n",
        "        fig.update_layout(showlegend=True)\n",
        "        fig.show()\n",
        "\n",
        "    else:\n",
        "        print(f\"No hay datos suficientes para graficar la relación de radiación y temperatura en {city}.\")\n"
      ],
      "metadata": {
        "id": "6zPjkCHD6PgA"
      },
      "execution_count": null,
      "outputs": []
    },
    {
      "cell_type": "code",
      "source": [
        "for city in ciudades_agro:\n",
        "    print(f\"\\n===== {city} =====\")\n",
        "\n",
        "    # Filtrar por ciudad\n",
        "    df_city = df_agricultura[df_agricultura['city_name'] == city].copy()\n",
        "\n",
        "    # Verificar que existan todas las columnas necesarias\n",
        "    required_columns = ['shortwave_radiation_sum', 'humedad_relativa_promedio']\n",
        "    if not all(col in df_city.columns for col in required_columns):\n",
        "        print(f\"Faltan columnas necesarias en los datos de {city}\")\n",
        "        continue\n",
        "\n",
        "    # Eliminar filas con valores faltantes en las columnas relevantes\n",
        "    df_city = df_city[required_columns].dropna()\n",
        "\n",
        "    # Continuar solo si hay suficientes datos\n",
        "    if not df_city.empty and len(df_city) >= 10:  # puedes ajustar el mínimo de filas requeridas\n",
        "        X = df_city[['shortwave_radiation_sum']]\n",
        "        y = df_city['humedad_relativa_promedio']\n",
        "\n",
        "        # Dividir datos en entrenamiento y prueba\n",
        "        x_train, x_test, y_train, y_test = train_test_split(X, y, test_size=0.2, random_state=42)\n",
        "\n",
        "        # Entrenar modelo de regresión lineal\n",
        "        model = LinearRegression()\n",
        "        model.fit(x_train, y_train)\n",
        "\n",
        "        # Predecir y evaluar\n",
        "        y_pred = model.predict(x_test)\n",
        "\n",
        "        # Calcular métricas de evaluación\n",
        "        r2 = r2_score(y_test, y_pred)\n",
        "        mse = mean_squared_error(y_test, y_pred)\n",
        "        rmse = np.sqrt(mse) # Calcular RMSE como la raíz cuadrada del MSE\n",
        "\n",
        "        # Mostrar resultados\n",
        "        print(f\"R-squared para {city}: {r2:.2f}\")\n",
        "        print(f\"Mean Squared Error (MSE) para {city}: {mse:.2f}\")\n",
        "        print(f\"Root Mean Squared Error (RMSE) para {city}: {rmse:.2f}\")\n",
        "\n",
        "\n",
        "        # Gráfico de resultados reales vs. predichos\n",
        "        plt.figure(figsize=(8, 6))\n",
        "        plt.scatter(y_test, y_pred, color='green', label='Predicciones')\n",
        "        plt.plot([y_test.min(), y_test.max()], [y_test.min(), y_test.max()],\n",
        "                 color='red', linestyle='--', label='Ajuste perfecto')\n",
        "        plt.xlabel('Valores reales de humedad')\n",
        "        plt.ylabel('Valores predichos de humedad')\n",
        "        plt.title(f'Modelo Lineal - {city}')\n",
        "        plt.legend()\n",
        "        plt.tight_layout()\n",
        "        plt.grid(True)\n",
        "        plt.show()"
      ],
      "metadata": {
        "id": "IqkdZuNOF3_j"
      },
      "execution_count": null,
      "outputs": []
    },
    {
      "cell_type": "code",
      "source": [
        "import numpy as np\n",
        "import pandas as pd\n",
        "import matplotlib.pyplot as plt\n",
        "from sklearn.model_selection import train_test_split\n",
        "from sklearn.metrics import confusion_matrix, ConfusionMatrixDisplay\n",
        "from sklearn.ensemble import RandomForestClassifier\n",
        "\n",
        "# Asegúrate de que ciudades_agro y df_agricultura estén definidos\n",
        "# ciudades_agro = df_agricultura['city_name'].unique()\n",
        "\n",
        "for city in ciudades_agro:\n",
        "    print(f\"\\n===== {city} =====\")\n",
        "\n",
        "    # Filtrar datos por ciudad\n",
        "    df_city = df_agricultura[df_agricultura['city_name'] == city].copy()\n",
        "\n",
        "    # Eliminar NaNs\n",
        "    df_city = df_city[['shortwave_radiation_sum', 'temperature_2m_mean']].dropna()\n",
        "\n",
        "    # Definir X y binarizar Y\n",
        "    X = df_city[['shortwave_radiation_sum']]\n",
        "    y = df_city['temperature_2m_mean'] > df_city['temperature_2m_mean'].median()\n",
        "    y = y.astype(int)  # 1: temperatura alta, 0: baja\n",
        "\n",
        "    # División de datos\n",
        "    x_train, x_test, y_train, y_test = train_test_split(X, y, test_size=0.2, random_state=42)\n",
        "\n",
        "    # Entrenar clasificador\n",
        "    classifier = RandomForestClassifier(random_state=42)\n",
        "    classifier.fit(x_train, y_train)\n",
        "\n",
        "    # Predicciones\n",
        "    y_pred = classifier.predict(x_test)\n",
        "\n",
        "    # Matriz de confusión\n",
        "    cm = confusion_matrix(y_test, y_pred)\n",
        "    disp = ConfusionMatrixDisplay(confusion_matrix=cm, display_labels=('Baja', 'Alta'))\n",
        "\n",
        "    fig, ax = plt.subplots(figsize=(8, 9))\n",
        "    disp.plot(ax=ax, cmap=plt.cm.Blues)\n",
        "    plt.title(f'Matriz de Confusión - {city}')\n",
        "    plt.xlabel('Predicción')\n",
        "    plt.ylabel('Realidad')\n",
        "\n",
        "    # Añadir anotaciones personalizadas\n",
        "    plt.text(0, 0, f'{cm[0,0]}\\nTN\\n(Verdaderos Negativos)', ha='center', va='center', fontsize=10, color='white')\n",
        "    plt.text(1, 0, f'{cm[0,1]}\\nFP\\n(Falsos Positivos)', ha='center', va='center', fontsize=10, color='black')\n",
        "    plt.text(0, 1, f'{cm[1,0]}\\nFN\\n(Falsos Negativos)', ha='center', va='center', fontsize=10, color='black')\n",
        "    plt.text(1, 1, f'{cm[1,1]}\\nTP\\n(Verdaderos Positivos)', ha='center', va='center', fontsize=10, color='white')\n",
        "\n",
        "    plt.tight_layout()\n",
        "    plt.show()\n"
      ],
      "metadata": {
        "id": "-eEEsJ3w3UH7"
      },
      "execution_count": null,
      "outputs": []
    },
    {
      "cell_type": "markdown",
      "source": [
        "###Lluvia"
      ],
      "metadata": {
        "id": "bZ-JNmVdnI1-"
      }
    },
    {
      "cell_type": "code",
      "source": [
        "import pandas as pd\n",
        "import matplotlib.pyplot as plt\n",
        "\n",
        "for city in ciudades_agro:\n",
        "    print(f\"\\n===== {city} =====\")\n",
        "\n",
        "    # Filtrar datos por ciudad\n",
        "    df_city = df_agricultura[df_agricultura['city_name'] == city].copy()\n",
        "\n",
        "    # Eliminar nulos y seleccionar columnas relevantes\n",
        "    df_city_precipitacion = df_city[['date', 'año', 'mes', 'dia', 'precipitation_sum', 'temperature_2m_mean',\n",
        "                                     'rain_sum', 'snowfall_sum', 'precipitation_hours']].dropna()\n",
        "\n",
        "    # Asegurar que 'date' es datetime y usarla como índice\n",
        "    df_city_precipitacion['date'] = pd.to_datetime(df_city_precipitacion['date'])\n",
        "    df_city_precipitacion.set_index('date', inplace=True)\n",
        "\n",
        "    # Agrupación trimestral (resample por trimestre)\n",
        "    precipitacion_trimestral = df_city_precipitacion['precipitation_sum'].resample('Q').sum()\n",
        "\n",
        "    # Graficar\n",
        "    plt.figure(figsize=(15, 7))\n",
        "    plt.plot(precipitacion_trimestral.index, precipitacion_trimestral.values, marker='o', linestyle='-')\n",
        "    plt.title(f\"Cantidad de lluvia por trimestre en {city}\", fontsize=14)\n",
        "    plt.xlabel(\"Fecha\", fontsize=12)\n",
        "    plt.ylabel(\"Precipitación acumulada (mm)\", fontsize=12)\n",
        "    plt.grid(True)\n",
        "    plt.tight_layout()\n",
        "    plt.show()\n",
        "\n"
      ],
      "metadata": {
        "id": "FKEUIkXQKkZs"
      },
      "execution_count": null,
      "outputs": []
    },
    {
      "cell_type": "code",
      "source": [
        "for city in ciudades_agro:\n",
        "    print(f\"\\n===== {city} =====\")\n",
        "\n",
        "\n",
        "    df_city = df_agricultura[df_agricultura['city_name'] == city].copy()\n",
        "\n",
        "    df_city['date'] = pd.to_datetime(df_city['date'])\n",
        "\n",
        "    df_city_precipitacion = df_city[['date', 'precipitation_sum']].dropna()\n",
        "\n",
        "    df_city_precipitacion.set_index('date', inplace=True)\n",
        "\n",
        "    df_city_precipitacion['lluvia_dia'] = df_city_precipitacion['precipitation_sum'] > 0\n",
        "\n",
        "    dias_lluviosos = df_city_precipitacion.groupby(df_city_precipitacion.index.month)['lluvia_dia'].sum()\n",
        "\n",
        "    print(dias_lluviosos)\n",
        "\n",
        "    dias_lluviosos.plot(kind='bar', figsize=(10, 5), title=f'Días con lluvia por mes en {city}')\n",
        "    plt.xlabel('Mes')\n",
        "    plt.ylabel('Días con lluvia')\n",
        "    plt.xticks(rotation=0)\n",
        "    plt.grid(True)\n",
        "    plt.tight_layout()\n",
        "    plt.show()\n"
      ],
      "metadata": {
        "id": "3Xu8nvHuUjeP"
      },
      "execution_count": null,
      "outputs": []
    },
    {
      "cell_type": "code",
      "source": [
        "import pandas as pd\n",
        "import matplotlib.pyplot as plt\n",
        "\n",
        "for city in ciudades_agro:\n",
        "    print(f\"\\n===== {city} =====\")\n",
        "\n",
        "    # Filtrar datos por ciudad\n",
        "    df_city = df_agricultura[df_agricultura['city_name'] == city].copy()\n",
        "\n",
        "    # Asegurarse de que 'date' sea datetime y poner como índice\n",
        "    df_city['date'] = pd.to_datetime(df_city['date'])\n",
        "    df_city.set_index('date', inplace=True)\n",
        "\n",
        "    # Filtrar días con lluvia\n",
        "    df_lluvia = df_city[df_city['precipitation_sum'] > 0].copy()\n",
        "\n",
        "    # Función para clasificar intensidad de lluvia\n",
        "    def clasificar_clima(valor):\n",
        "        if valor < 5:\n",
        "            return 'Lluvia ligera'\n",
        "        elif 5 <= valor < 20:\n",
        "            return 'Lluvia moderada'\n",
        "        elif 20 <= valor < 50:\n",
        "            return 'Lluvia fuerte'\n",
        "        else:\n",
        "            return 'Lluvia extrema'\n",
        "\n",
        "    # Aplicar la clasificación a cada día con lluvia\n",
        "    df_lluvia['clasificacion_lluvia'] = df_lluvia['precipitation_sum'].apply(clasificar_clima)\n",
        "\n",
        "    # Mostrar resumen por año\n",
        "    resumen = df_lluvia.groupby([df_lluvia.index.year, 'clasificacion_lluvia']).size().unstack(fill_value=0)\n",
        "\n",
        "    # Opcional: gráfico de barras apiladas por año\n",
        "    resumen.plot(kind='bar', stacked=True, figsize=(12, 6), title=f\"Clasificación de lluvia por año en {city}\")\n",
        "    plt.xlabel(\"Año\")\n",
        "    plt.ylabel(\"Cantidad de días\")\n",
        "    plt.grid(True)\n",
        "    plt.tight_layout()\n",
        "    plt.show()\n",
        "\n",
        "\n",
        "\n",
        "\n",
        "\n",
        "\n"
      ],
      "metadata": {
        "id": "EAhw_BiEX7XO"
      },
      "execution_count": null,
      "outputs": []
    },
    {
      "cell_type": "code",
      "source": [
        "import pandas as pd\n",
        "import matplotlib.pyplot as plt\n",
        "from sklearn.preprocessing import StandardScaler\n",
        "from sklearn.decomposition import PCA\n",
        "for city in ciudades_agro:\n",
        "    print(f\"\\n===== {city} =====\")\n",
        "\n",
        "    # Filtrar datos por ciudad\n",
        "    df_city = df_agricultura[df_agricultura['city_name'] == city].copy()\n",
        "\n",
        "    # Asegurar que 'date' es datetime\n",
        "    df_city['date'] = pd.to_datetime(df_city['date'])\n",
        "    df_city.set_index('date', inplace=True)\n",
        "\n",
        "    # Filtrar días con precipitación\n",
        "    df_lluvia = df_city[df_city['precipitation_sum'] > 0].copy()\n",
        "\n",
        "    # Clasificar tipo de lluvia\n",
        "    def clasificar_clima(valor):\n",
        "        if valor < 5:\n",
        "            return 'Lluvia ligera'\n",
        "        elif 5 <= valor < 20:\n",
        "            return 'Lluvia moderada'\n",
        "        elif 20 <= valor < 50:\n",
        "            return 'Lluvia fuerte'\n",
        "        else:\n",
        "            return 'Lluvia extrema'\n",
        "\n",
        "    df_lluvia['clasificacion_lluvia'] = df_lluvia['precipitation_sum'].apply(clasificar_clima)\n",
        "\n",
        "    # Seleccionar solo variables numéricas para PCA\n",
        "    columnas_numericas = [\n",
        "        'temperature_2m_mean',\n",
        "        'shortwave_radiation_sum',\n",
        "        'wind_speed_10m_max',\n",
        "        'wind_gusts_10m_max',\n",
        "        'precipitation_sum',\n",
        "        'rain_sum',\n",
        "        'snowfall_sum',\n",
        "        'precipitation_hours',\n",
        "        'humidity_relativa_promedio'\n",
        "    ]\n",
        "\n",
        "    # Filtrar columnas presentes\n",
        "    columnas_usar = [col for col in columnas_numericas if col in df_lluvia.columns]\n",
        "    df_lluvia_clean = df_lluvia.dropna(subset=columnas_usar + ['clasificacion_lluvia'])\n",
        "\n",
        "    x = df_lluvia_clean[columnas_usar]\n",
        "    y = df_lluvia_clean['clasificacion_lluvia']\n",
        "\n",
        "    # Estandarizar\n",
        "    scaler = StandardScaler()\n",
        "    x_scaled = scaler.fit_transform(x)\n",
        "\n",
        "    # Aplicar PCA\n",
        "    pca = PCA(n_components=2)\n",
        "    x_pca = pca.fit_transform(x_scaled)\n",
        "\n",
        "    print(\"Varianza explicada por los 2 primeros componentes:\", pca.explained_variance_ratio_)\n",
        "\n",
        "    # Crear DataFrame con componentes principales y clases\n",
        "    df_pca = pd.DataFrame(data=x_pca, columns=['PC1', 'PC2'])\n",
        "    df_pca['clasificacion_lluvia'] = y.values\n",
        "\n",
        "    # Visualizar\n",
        "    plt.figure(figsize=(8, 6))\n",
        "    colores = {\n",
        "        'Lluvia ligera': 'blue',\n",
        "        'Lluvia moderada': 'green',\n",
        "        'Lluvia fuerte': 'orange',\n",
        "        'Lluvia extrema': 'red'\n",
        "    }\n",
        "\n",
        "    for clase, color in colores.items():\n",
        "        subset = df_pca[df_pca['clasificacion_lluvia'] == clase]\n",
        "        plt.scatter(subset['PC1'], subset['PC2'], label=clase, alpha=0.6, color=color)\n",
        "\n",
        "    plt.title(f'PCA de días con lluvia en {city}')\n",
        "    plt.xlabel('Componente Principal 1')\n",
        "    plt.ylabel('Componente Principal 2')\n",
        "    plt.legend(title=\"Clasificación de lluvia\")\n",
        "    plt.grid(True)\n",
        "    plt.tight_layout()\n",
        "    plt.show()\n",
        "\n"
      ],
      "metadata": {
        "id": "N3gdpj13gmFo"
      },
      "execution_count": null,
      "outputs": []
    },
    {
      "cell_type": "markdown",
      "source": [
        "###Nevadas"
      ],
      "metadata": {
        "id": "w7ubhNvKnN3U"
      }
    },
    {
      "cell_type": "code",
      "source": [
        "for city in ciudades_agro:\n",
        "    print(f\"\\n===== {city} =====\")\n",
        "\n",
        "    # Filtrar datos por ciudad\n",
        "    df_city = df_agricultura[df_agricultura['city_name'] == city].copy()\n",
        "\n",
        "    df_city_precipitacion = df_city[['date', 'año', 'mes', 'dia', 'precipitation_sum', 'temperature_2m_mean',\n",
        "                                     'rain_sum', 'snowfall_sum', 'precipitation_hours']].dropna()\n",
        "\n",
        "    # Asegurar que 'date' es datetime y usarla como índice\n",
        "    df_city_precipitacion['date'] = pd.to_datetime(df_city_precipitacion['date'])\n",
        "    df_city_precipitacion.set_index('date', inplace=True)\n",
        "\n",
        "    # Agrupación trimestral (resample por trimestre)\n",
        "    precipitacion_trimestral_nevada = df_city_precipitacion['snowfall_sum'].resample('Q').sum()\n",
        "\n",
        "    # Graficar\n",
        "    plt.figure(figsize=(15, 7))\n",
        "    plt.plot(precipitacion_trimestral_nevada.index, precipitacion_trimestral_nevada.values, marker='o', linestyle='-')\n",
        "    plt.title(f\"Cantidad de lluvia por trimestre en {city}\", fontsize=14)\n",
        "    plt.xlabel(\"Fecha\", fontsize=12)\n",
        "    plt.ylabel(\"Precipitación acumulada (mm)\", fontsize=12)\n",
        "    plt.grid(True)\n",
        "    plt.tight_layout()\n",
        "    plt.show()\n",
        "\n",
        "\n"
      ],
      "metadata": {
        "id": "KpDa-S0bl6EJ"
      },
      "execution_count": null,
      "outputs": []
    },
    {
      "cell_type": "code",
      "source": [
        "from matplotlib import pyplot as plt\n",
        "import pandas as pd\n",
        "\n",
        "# Función para clasificar intensidad de nevada\n",
        "def clasificar_nevada(valor):\n",
        "    if 0.1 <= valor < 2.5:\n",
        "        return 'Nevada ligera'\n",
        "    elif 2.5 <= valor < 7.5:\n",
        "        return 'Nevada moderada'\n",
        "    elif 7.5 <= valor < 15:\n",
        "        return 'Nevada fuerte'\n",
        "    else:\n",
        "        return 'Nevada extrema'\n",
        "\n",
        "# Iterar sobre cada ciudad\n",
        "for city in ciudades_agro:\n",
        "    print(f\"\\n===== {city} =====\")\n",
        "\n",
        "    # Filtrar datos por ciudad\n",
        "    df_city = df_agricultura[df_agricultura['city_name'] == city].copy()\n",
        "\n",
        "    # Asegurar que 'date' esté en formato datetime y usarlo como índice\n",
        "    df_city['date'] = pd.to_datetime(df_city['date'])\n",
        "    df_city.set_index('date', inplace=True)\n",
        "\n",
        "    # Filtrar días con nieve\n",
        "    df_nevada = df_city[df_city['snowfall_sum'] > 0].copy()\n",
        "\n",
        "    if df_nevada.empty:\n",
        "        print(f\"No hay días con nieve registrados en {city}.\")\n",
        "        continue\n",
        "\n",
        "    # Clasificar intensidad de la nevada\n",
        "    df_nevada['clasificacion_nieve'] = df_nevada['snowfall_sum'].apply(clasificar_nevada)\n",
        "\n",
        "    # Resumen por año y categoría\n",
        "    resumen = df_nevada.groupby([df_nevada.index.year, 'clasificacion_nieve']).size().unstack(fill_value=0)\n",
        "\n",
        "    # Gráfico de barras apiladas\n",
        "    resumen.plot(kind='bar', stacked=True, figsize=(12, 6),\n",
        "                 title=f\"Clasificación de nevadas por año en {city}\")\n",
        "    plt.xlabel(\"Año\")\n",
        "    plt.ylabel(\"Cantidad de días con nevada\")\n",
        "    plt.grid(True)\n",
        "    plt.tight_layout()\n",
        "    plt.show()\n",
        "\n"
      ],
      "metadata": {
        "id": "I0iNpcbSnGXR"
      },
      "execution_count": null,
      "outputs": []
    },
    {
      "cell_type": "markdown",
      "source": [
        "##¿Que cosecha se puede cultivar en cada ciudad"
      ],
      "metadata": {
        "id": "AWSY9wS4nWvs"
      }
    },
    {
      "cell_type": "code",
      "source": [
        "df4.groupby('Crop')[['Temperature_Celsius', 'Rainfall_mm']].agg(['mean', 'min', 'max'])"
      ],
      "metadata": {
        "id": "47Ue06WNelY3"
      },
      "execution_count": null,
      "outputs": []
    },
    {
      "cell_type": "code",
      "source": [
        "df1['year'] = pd.to_datetime(df1['datetime']).dt.year\n",
        "weather_summary = df1.groupby(['city_name', 'year'])[['temperature_2m_mean', 'precipitation_sum']].mean().reset_index()"
      ],
      "metadata": {
        "id": "NETyRswfg_IQ"
      },
      "execution_count": null,
      "outputs": []
    },
    {
      "cell_type": "code",
      "source": [
        "def is_suitable(temp, rain, crop):\n",
        "    crop_data = crop_conditions[crop]\n",
        "    return (\n",
        "        crop_data['temp_min'] <= temp <= crop_data['temp_max'] and\n",
        "        crop_data['rain_min'] <= rain <= crop_data['rain_max']\n",
        "    )"
      ],
      "metadata": {
        "id": "MOrA_fPrhLR_"
      },
      "execution_count": null,
      "outputs": []
    },
    {
      "cell_type": "code",
      "source": [
        "crop_conditions = df4.groupby('Crop')[['Temperature_Celsius', 'Rainfall_mm']].agg(['mean', 'min', 'max'])\n",
        "crop_conditions.columns = ['temp_mean', 'temp_min', 'temp_max', 'rain_mean', 'rain_min', 'rain_max']\n",
        "crop_conditions.reset_index(inplace=True)"
      ],
      "metadata": {
        "id": "Kkh6ETuChfKw"
      },
      "execution_count": null,
      "outputs": []
    },
    {
      "cell_type": "code",
      "source": [
        "df1['datetime'] = pd.to_datetime(df1['datetime'])\n",
        "df1['year'] = df1['datetime'].dt.year\n",
        "\n",
        "# Agrupar por ciudad (o país si lo tienes)\n",
        "climate_summary = df1.groupby('city_name')[['temperature_2m_mean', 'precipitation_sum']].mean().reset_index()\n"
      ],
      "metadata": {
        "id": "HZkU7sK2hifS"
      },
      "execution_count": null,
      "outputs": []
    },
    {
      "cell_type": "code",
      "source": [
        "def is_suitable(row, crop_data):\n",
        "    return (crop_data['temp_min'] <= row['temperature_2m_mean'] <= crop_data['temp_max'] and\n",
        "            crop_data['rain_min'] <= row['precipitation_sum'] <= crop_data['rain_max'])\n",
        "\n",
        "results = []\n",
        "\n",
        "for _, crop_row in crop_conditions.iterrows():\n",
        "    crop = crop_row['Crop']\n",
        "    for _, city_row in climate_summary.iterrows():\n",
        "        suitable = is_suitable(city_row, crop_row)\n",
        "        results.append({\n",
        "            'Crop': crop,\n",
        "            'City': city_row['city_name'],\n",
        "            'Avg Temp': city_row['temperature_2m_mean'],\n",
        "            'Avg Rainfall': city_row['precipitation_sum'],\n",
        "            'Suitable': 'si' if suitable else 'no'\n",
        "        })\n",
        "\n",
        "\n",
        "df_results = pd.DataFrame(results)\n"
      ],
      "metadata": {
        "id": "S0xiWgBJhuwy"
      },
      "execution_count": null,
      "outputs": []
    },
    {
      "cell_type": "code",
      "source": [
        "ciudades_aptas = top_promedios.index\n",
        "\n",
        "for city in ciudades_aptas:\n",
        "    print(f\"\\n===== {city} =====\")\n",
        "\n",
        "    df_grupo_apto = df_results[df_results['City'] == city]\n",
        "\n",
        "    # Verifica si 'index' existe como columna, si no, no lo uses como índice\n",
        "    if 'index' in df_grupo_apto.columns:\n",
        "        df_pivot_apto = df_grupo_apto.set_index('index')[['Crop', 'City', 'Avg Temp', 'Avg Rainfall']]\n",
        "    else:\n",
        "        df_pivot_apto = df_grupo_apto[['Crop', 'Avg Temp', 'Avg Rainfall']]\n",
        "\n",
        "    display(df_pivot_apto)  # Esto funciona en Jupyter o IPython\n"
      ],
      "metadata": {
        "id": "orJRUcu5jAzM"
      },
      "execution_count": null,
      "outputs": []
    },
    {
      "cell_type": "markdown",
      "metadata": {
        "id": "aUVx2TnEWjqX"
      },
      "source": [
        "#**Insights**\n",
        "\n",
        "* **Ciudades calurosas**: Hay algunas ciudades con un promedio de temperatura máxima muy alto durante todo el año (ej. Dubai, Abu Dhabi), mientras que otras tienen veranos muy calurosos, pero inviernos más suaves (ej. Miami, Phoenix).\n",
        "\n",
        "* **Ciudades frías**: Las ciudades frías muestran una variación considerable en la temperatura a lo largo del año. Algunas tienen temperaturas bajo cero durante el invierno (ej. Toronto, Moscú).\n",
        "\n",
        "* **Amplitud térmica**: En general, la amplitud térmica tiende a ser mayor en las ciudades calurosas, especialmente en las que están ubicadas en zonas desérticas.\n",
        "* **Sensación térmica**: La diferencia entre la temperatura real y la sensación térmica es significativa en muchas ciudades, especialmente durante los meses de verano.\n",
        "* **Probabilidad de lluvia**: La probabilidad de lluvia varía de forma considerable entre las ciudades y a lo largo del año.\n",
        "* **Agricultura**: Existe un grupo de ciudades con condiciones agroclimáticas muy favorables (temperatura, precipitación, etc.), lo que podría ser un atractivo para la inversión en este sector.\n",
        "* **Turismo**: Las ciudades con clima ideal para turismo tienen temperaturas agradables durante la mayor parte del año y pocas precipitaciones.\n"
      ]
    },
    {
      "cell_type": "markdown",
      "source": [
        "# Proyecto: Selección Óptima de Ubicaciones para Cultivos\n",
        "\n",
        "## Conclusiones del Proyecto\n",
        "\n",
        "### Ciudades con Mayor Aptitud para la Agricultura\n",
        "\n",
        "Tras el análisis detallado de variables climáticas clave —**temperatura media anual, precipitación y radiación solar**— se identificaron las siguientes **24 ciudades** como las más aptas para el desarrollo agrícola diversificado:\n"
      ],
      "metadata": {
        "id": "abSdV3IyejHE"
      }
    },
    {
      "cell_type": "code",
      "source": [
        "ciudades_optimas = [\n",
        "    \"Kuwait City\", \"Riyadh\", \"Miami\", \"Rio de Janeiro\", \"Hanoi\", \"San Diego\",\n",
        "    \"Hong Kong\", \"Orlando\", \"Taipei\", \"New Orleans\", \"Tel Aviv\", \"Brisbane\",\n",
        "    \"São Paulo\", \"Boston\", \"Athens\", \"Valencia\", \"Philadelphia\", \"Buenos Aires\",\n",
        "    \"Nashville\", \"Sydney\", \"Los Angeles\", \"Naples\", \"Mexico City\", \"Washington\"\n",
        "]\n",
        "\n",
        "for i, ciudad in enumerate(ciudades_optimas):\n",
        "    print(f\"{i+1}. {ciudad}\")\n"
      ],
      "metadata": {
        "id": "KyNI6erklp1P"
      },
      "execution_count": null,
      "outputs": []
    },
    {
      "cell_type": "markdown",
      "source": [
        "Estas ciudades comparten condiciones climáticas **moderadamente cálidas y estables**, con:\n",
        "\n",
        "- Temperatura media aproximada: **17.1 °C**\n",
        "- Precipitación media: **3.21 mm**\n",
        "\n",
        "Lo cual las hace ideales para cultivos de **alto valor económico y nutricional**.\n",
        "\n",
        "---\n",
        "\n",
        "### Principales Cultivos Recomendados\n",
        "\n",
        "Con base en las condiciones agroclimáticas, se identificaron los siguientes cultivos como altamente compatibles con las zonas seleccionadas:\n",
        "\n"
      ],
      "metadata": {
        "id": "IUcvSYBwllQU"
      }
    },
    {
      "cell_type": "code",
      "source": [
        "import pandas as pd\n",
        "\n",
        "cultivos = {\n",
        "    \"ID\": [98, 198, 298, 398, 498, 598],\n",
        "    \"Cultivo\": [\"Barley\", \"Cotton\", \"Maize\", \"Rice\", \"Soybean\", \"Wheat\"],\n",
        "    \"Temperatura Media (°C)\": [17.106569]*6,\n",
        "    \"Precipitación (mm)\": [3.210115]*6\n",
        "}\n",
        "\n",
        "df_cultivos = pd.DataFrame(cultivos)\n",
        "df_cultivos"
      ],
      "metadata": {
        "id": "8MSm_iGIl5fG"
      },
      "execution_count": null,
      "outputs": []
    },
    {
      "cell_type": "markdown",
      "source": [
        "Estos cultivos presentan:\n",
        "\n",
        "- Alta adaptabilidad climática\n",
        "- Relevancia económica internacional\n",
        "- Potencial para sistemas de rotación y producción diversificada\n",
        "\n",
        "---\n",
        "\n",
        "### Interpretación de Resultados\n",
        "\n",
        "- Las ciudades seleccionadas tienen un **alto potencial agrícola** subutilizado o con posibilidades de expansión.\n",
        "- La **uniformidad climática** permite planificar con precisión los ciclos agrícolas.\n",
        "- La selección de cultivos incluye **granos, fibras y leguminosas**, adecuados para distintas estrategias productivas.\n",
        "\n",
        "---\n",
        "\n",
        "### Aplicaciones Potenciales\n",
        "\n",
        "- Planificación estratégica de zonas agrícolas\n",
        "- Implementación de sistemas de producción resilientes al clima\n",
        "- Promoción de la seguridad alimentaria y reducción de riesgos\n",
        "- Inversión agroindustrial en regiones urbanas y periurbanas\n"
      ],
      "metadata": {
        "id": "e_5c5rBvmDPQ"
      }
    }
  ]
}
